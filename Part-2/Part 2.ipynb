{
 "cells": [
  {
   "cell_type": "markdown",
   "id": "5e9ab2a9",
   "metadata": {},
   "source": [
    "# Part 2: Data Analytics \n",
    "(Raj Dhakan, xn23972)\n",
    "***\n",
    "[TODO: insert description of what the code in this file does]\n",
    "***\n",
    "## Importing Libraries"
   ]
  },
  {
   "cell_type": "code",
   "execution_count": 64,
   "id": "3fdf62b7",
   "metadata": {},
   "outputs": [],
   "source": [
    "import json\n",
    "import pandas as pd\n",
    "import requests\n",
    "import numpy as np\n",
    "import time\n",
    "from sigfig import round\n",
    "# !pip install yfinance\n",
    "import yfinance as yf\n",
    "import seaborn as sns\n",
    "import matplotlib\n",
    "import matplotlib.pyplot as plt"
   ]
  },
  {
   "cell_type": "markdown",
   "id": "8937a04f",
   "metadata": {},
   "source": [
    "## Step 1: Crawling Real-World Datasets\n",
    "***\n",
    "The dataset that is extracted is about S&P500 stocks. S&P500 is a common equity indicies which include 500 of the largest companies listed on stock exchanges in the United States. \n",
    "\n",
    "First, the table of S&P500 companies is scraped from Wikipedia's __[S&P500 Companies](https://en.wikipedia.org/wiki/List_of_S%26P_500_companies)__ homepage. The columns of interest from this table are: ***Symbol*** of the stock (e.g. AAPL for Apple Inc.), ***Security*** (i.e. the company name), ***Global Industry Classification Standard*** (GICS, i.e. field of work such as Tech, Finance, Healthcare etc) sector, and ***Headquarters Location***. \n",
    "\n",
    "Second, common key features used in analysing stocks are scraped from __[Yahoo Finance](https://finance.yahoo.com/)__. The key features of interest are: ***Market Capitilisation***, ***Revenue***, ***Profit Margin***, ***Earning per Share***, ***Profit to Earnings ratio*** and ***Profit to Earning Growth ratio (5yr forecasted)***. These features are scraped by taking the symbols from the table acquired from Wikipedia and using them to create a url to the respective stock's statistics page (e.g. __https://finance.yahoo.com/quote/AAPL/key-statistics?p=AAPL__ for Apple Inc.)\n",
    "\n",
    "The two tables are then merged and saved as `SnP500_raw.csv` in the directory of this jupyter notebook\n",
    "\n",
    "<div class=\"alert alert-block alert-info\">\n",
    "<b>Note:</b> The data extracted from Yahoo Finance is accurate to date 08/12/2023.\n",
    "</div>\n",
    "\n",
    "<div class=\"alert alert-block alert-danger\">\n",
    "<b>Warning:</b> Running the below code will overwrite the raw_data file.\n",
    "</div>"
   ]
  },
  {
   "cell_type": "code",
   "execution_count": 2,
   "id": "c024af14",
   "metadata": {},
   "outputs": [
    {
     "data": {
      "text/html": [
       "<div>\n",
       "<style scoped>\n",
       "    .dataframe tbody tr th:only-of-type {\n",
       "        vertical-align: middle;\n",
       "    }\n",
       "\n",
       "    .dataframe tbody tr th {\n",
       "        vertical-align: top;\n",
       "    }\n",
       "\n",
       "    .dataframe thead th {\n",
       "        text-align: right;\n",
       "    }\n",
       "</style>\n",
       "<table border=\"1\" class=\"dataframe\">\n",
       "  <thead>\n",
       "    <tr style=\"text-align: right;\">\n",
       "      <th></th>\n",
       "      <th>Symbol</th>\n",
       "      <th>Security</th>\n",
       "      <th>GICS Sector</th>\n",
       "      <th>GICS Sub-Industry</th>\n",
       "      <th>Headquarters Location</th>\n",
       "      <th>Date added</th>\n",
       "      <th>CIK</th>\n",
       "      <th>Founded</th>\n",
       "    </tr>\n",
       "  </thead>\n",
       "  <tbody>\n",
       "    <tr>\n",
       "      <th>0</th>\n",
       "      <td>MMM</td>\n",
       "      <td>3M</td>\n",
       "      <td>Industrials</td>\n",
       "      <td>Industrial Conglomerates</td>\n",
       "      <td>Saint Paul, Minnesota</td>\n",
       "      <td>1957-03-04</td>\n",
       "      <td>66740</td>\n",
       "      <td>1902</td>\n",
       "    </tr>\n",
       "    <tr>\n",
       "      <th>1</th>\n",
       "      <td>AOS</td>\n",
       "      <td>A. O. Smith</td>\n",
       "      <td>Industrials</td>\n",
       "      <td>Building Products</td>\n",
       "      <td>Milwaukee, Wisconsin</td>\n",
       "      <td>2017-07-26</td>\n",
       "      <td>91142</td>\n",
       "      <td>1916</td>\n",
       "    </tr>\n",
       "    <tr>\n",
       "      <th>2</th>\n",
       "      <td>ABT</td>\n",
       "      <td>Abbott</td>\n",
       "      <td>Health Care</td>\n",
       "      <td>Health Care Equipment</td>\n",
       "      <td>North Chicago, Illinois</td>\n",
       "      <td>1957-03-04</td>\n",
       "      <td>1800</td>\n",
       "      <td>1888</td>\n",
       "    </tr>\n",
       "    <tr>\n",
       "      <th>3</th>\n",
       "      <td>ABBV</td>\n",
       "      <td>AbbVie</td>\n",
       "      <td>Health Care</td>\n",
       "      <td>Biotechnology</td>\n",
       "      <td>North Chicago, Illinois</td>\n",
       "      <td>2012-12-31</td>\n",
       "      <td>1551152</td>\n",
       "      <td>2013 (1888)</td>\n",
       "    </tr>\n",
       "    <tr>\n",
       "      <th>4</th>\n",
       "      <td>ACN</td>\n",
       "      <td>Accenture</td>\n",
       "      <td>Information Technology</td>\n",
       "      <td>IT Consulting &amp; Other Services</td>\n",
       "      <td>Dublin, Ireland</td>\n",
       "      <td>2011-07-06</td>\n",
       "      <td>1467373</td>\n",
       "      <td>1989</td>\n",
       "    </tr>\n",
       "  </tbody>\n",
       "</table>\n",
       "</div>"
      ],
      "text/plain": [
       "  Symbol     Security             GICS Sector               GICS Sub-Industry  \\\n",
       "0    MMM           3M             Industrials        Industrial Conglomerates   \n",
       "1    AOS  A. O. Smith             Industrials               Building Products   \n",
       "2    ABT       Abbott             Health Care           Health Care Equipment   \n",
       "3   ABBV       AbbVie             Health Care                   Biotechnology   \n",
       "4    ACN    Accenture  Information Technology  IT Consulting & Other Services   \n",
       "\n",
       "     Headquarters Location  Date added      CIK      Founded  \n",
       "0    Saint Paul, Minnesota  1957-03-04    66740         1902  \n",
       "1     Milwaukee, Wisconsin  2017-07-26    91142         1916  \n",
       "2  North Chicago, Illinois  1957-03-04     1800         1888  \n",
       "3  North Chicago, Illinois  2012-12-31  1551152  2013 (1888)  \n",
       "4          Dublin, Ireland  2011-07-06  1467373         1989  "
      ]
     },
     "execution_count": 2,
     "metadata": {},
     "output_type": "execute_result"
    }
   ],
   "source": [
    "# # extracting list of SnP 500 companies from Wikipedia\n",
    "# url_link= 'https://en.wikipedia.org/wiki/List_of_S%26P_500_companies'\n",
    "# response = requests.get(url_link)\n",
    "# SnP500_raw = pd.read_html(response.text)[0]\n",
    "# SnP500_raw.head()"
   ]
  },
  {
   "cell_type": "code",
   "execution_count": 3,
   "id": "40517b73",
   "metadata": {
    "scrolled": true
   },
   "outputs": [],
   "source": [
    "# def yahoo_api_statistics(symbol:str):\n",
    "#     '''\n",
    "#     Returns a list of features commonly used to evaluate stocks.\n",
    "\n",
    "#             Parameters:\n",
    "#                     symbol (str): Stock symbols; e.g. AAPL for Apple\n",
    "\n",
    "#             Returns:\n",
    "#                     features_list (list): List of key features in the given order:\n",
    "#                     1. Market Capitilisation (Market_cap)\n",
    "#                     2. Revenue (Revenue)\n",
    "#                     3. Profit Margin (Profit_margin)\n",
    "#                     4. Earning per Share (EPS)\n",
    "#                     5. Profit to Earnings ratio (PE_ratio)\n",
    "#                     6. Profit to Earnings Growth ratio (PEG)\n",
    "#     '''  \n",
    "#     # replaces a '.' to '-' in any symbol to produce the correct url to scrape data\n",
    "#     if \".\" in symbol:\n",
    "#         symbol = symbol.replace(\".\",\"-\")\n",
    "        \n",
    "#     statistics_url = (\"https://finance.yahoo.com/quote/{symbol}/key-statistics?p={symbol}\").format(symbol = symbol)\n",
    "#     response = requests.get(statistics_url, headers= {'User-agent': 'Mozilla/5.0'})\n",
    "#     df = pd.read_html(response.text)\n",
    "    \n",
    "#     # Extracts individual features from the tables (use of iat over iloc to increase speed of extraction)\n",
    "#     Market_cap = df[0].iat[0,1]\n",
    "#     Revenue = df[-3].iat[0,1]\n",
    "#     Profit_margin = df[5].iat[0,1]\n",
    "#     EPS = df[-3].iat[6,1]\n",
    "#     PE_ratio =  df[0].iat[2,1]\n",
    "#     PEG = df[0].iat[4,1]\n",
    "    \n",
    "#     features_list = [Market_cap, Revenue, Profit_margin, EPS, PE_ratio, PEG]\n",
    "    \n",
    "#     return features_list\n",
    "\n",
    "\n",
    "# # creating an empty list to store the features\n",
    "# features = []\n",
    "\n",
    "# # loops through symbols to extract \n",
    "# for i in range(len(SnP500_raw)):\n",
    "    \n",
    "#     # try/except to catch out any pages with errors\n",
    "#     try:\n",
    "#         symbol = SnP500_raw.iat[i,0]\n",
    "#         input_list = yahoo_api_statistics(symbol)\n",
    "#         features.append(input_list)\n",
    "#     except:\n",
    "#         print(symbol)"
   ]
  },
  {
   "cell_type": "code",
   "execution_count": 4,
   "id": "9e85c304",
   "metadata": {},
   "outputs": [],
   "source": [
    "# # columns with units, where B = Billions and TTM = Trailing Twelve Months\n",
    "# columns_to_add = ['Market Cap / B', 'Revenue (TTM) / B', 'Profit Margin / %', 'Earnings per Share (TTM) / $', 'Price to Earning ratio (TTM)', 'Price to Earnings Growth ratio (5yr expected)']\n",
    "\n",
    "# # converting lists of lists into a dataframe\n",
    "# features = pd.DataFrame(data = features, columns = columns_to_add)\n",
    "\n",
    "# # slicing the raw dataframe to acquire the required columns only \n",
    "# SnP500_sliced = SnP500_raw[['Symbol','Security','GICS Sector', 'Headquarters Location']]\n",
    "\n",
    "# # merging the two dataframes\n",
    "# SnP500_features_raw = pd.concat([SnP500_sliced,features], axis = 1)\n",
    "\n",
    "# # saving the merged dataframe as csv file in the directory of this Jupyter Notebook\n",
    "# SnP500_features_raw.to_csv(\"SnP500_raw_data.csv\", index= False)"
   ]
  },
  {
   "cell_type": "markdown",
   "id": "942a7881",
   "metadata": {},
   "source": [
    "## Step 2: Data Preparation & Cleaning\n",
    "***\n",
    "The following is performed sequentially to prepare the data for analysis:\n",
    "- Column headings are simplified where possible (e.g. ***Security*** is changed to ***Company***) to make it more understandable\n",
    "- Column ***Headquarters Location*** is split into two columns, ***HQ Country*** and ***HQ State/City***. This because the initial column contain a mix of 'City,State,Country', 'State,Country' and 'City,Country'\n",
    "- Missing values are identified and quantified for any columns with numeric values to create a logical strategy to clean data\n",
    "    1. For columns, ***Market Cap***, ***Revenue***, ***Profit Margin***, and ***Earnings per Share***, any units with the value is removed and then rounded to 2 decimal places\n",
    "    2. The list of companies is then ordered from the largest to smallest ***Market Cap***\n",
    "    3. Column ***Price to Earnings Growth (5yr expected)*** is dropped due to having 1/5 of data points missing and the lack of raw data to calculate the ratio.\n",
    "    4. Missing values in ***Price to Earnings ratio*** is filled by calculating from raw data using the formula:\n",
    "        - `PE = current share price / (sum of EPS over the last 4 quarters)`\n",
    "    5. ***Price to Earnings ratio*** values have their units removed if any, values are rounded to 2 decimal places, and any incorrect values are corrected (i.e. where PE ratio doesnt share the same sign as EPS, as illustrated by the equation)"
   ]
  },
  {
   "cell_type": "code",
   "execution_count": 36,
   "id": "bd83ba5a",
   "metadata": {},
   "outputs": [
    {
     "data": {
      "text/html": [
       "<div>\n",
       "<style scoped>\n",
       "    .dataframe tbody tr th:only-of-type {\n",
       "        vertical-align: middle;\n",
       "    }\n",
       "\n",
       "    .dataframe tbody tr th {\n",
       "        vertical-align: top;\n",
       "    }\n",
       "\n",
       "    .dataframe thead th {\n",
       "        text-align: right;\n",
       "    }\n",
       "</style>\n",
       "<table border=\"1\" class=\"dataframe\">\n",
       "  <thead>\n",
       "    <tr style=\"text-align: right;\">\n",
       "      <th></th>\n",
       "      <th>Symbol</th>\n",
       "      <th>Security</th>\n",
       "      <th>GICS Sector</th>\n",
       "      <th>Headquarters Location</th>\n",
       "      <th>Market Cap / B</th>\n",
       "      <th>Revenue (TTM) / B</th>\n",
       "      <th>Profit Margin / %</th>\n",
       "      <th>Earnings per Share (TTM) / $</th>\n",
       "      <th>Price to Earning ratio (TTM)</th>\n",
       "      <th>Price to Earnings Growth ratio (5yr expected)</th>\n",
       "    </tr>\n",
       "  </thead>\n",
       "  <tbody>\n",
       "    <tr>\n",
       "      <th>0</th>\n",
       "      <td>MMM</td>\n",
       "      <td>3M</td>\n",
       "      <td>Industrials</td>\n",
       "      <td>Saint Paul, Minnesota</td>\n",
       "      <td>57.04B</td>\n",
       "      <td>32.75B</td>\n",
       "      <td>-22.59%</td>\n",
       "      <td>-13.31</td>\n",
       "      <td>16.99</td>\n",
       "      <td>3.79</td>\n",
       "    </tr>\n",
       "    <tr>\n",
       "      <th>1</th>\n",
       "      <td>AOS</td>\n",
       "      <td>A. O. Smith</td>\n",
       "      <td>Industrials</td>\n",
       "      <td>Milwaukee, Wisconsin</td>\n",
       "      <td>11.60B</td>\n",
       "      <td>3.8B</td>\n",
       "      <td>7.87%</td>\n",
       "      <td>2.01</td>\n",
       "      <td>38.81</td>\n",
       "      <td>2.00</td>\n",
       "    </tr>\n",
       "    <tr>\n",
       "      <th>2</th>\n",
       "      <td>ABT</td>\n",
       "      <td>Abbott</td>\n",
       "      <td>Health Care</td>\n",
       "      <td>North Chicago, Illinois</td>\n",
       "      <td>180.64B</td>\n",
       "      <td>39.96B</td>\n",
       "      <td>12.92%</td>\n",
       "      <td>2.94</td>\n",
       "      <td>35.39</td>\n",
       "      <td>24.94</td>\n",
       "    </tr>\n",
       "    <tr>\n",
       "      <th>3</th>\n",
       "      <td>ABBV</td>\n",
       "      <td>AbbVie</td>\n",
       "      <td>Health Care</td>\n",
       "      <td>North Chicago, Illinois</td>\n",
       "      <td>261.25B</td>\n",
       "      <td>55.14B</td>\n",
       "      <td>11.81%</td>\n",
       "      <td>3.65</td>\n",
       "      <td>40.54</td>\n",
       "      <td>3.61</td>\n",
       "    </tr>\n",
       "    <tr>\n",
       "      <th>4</th>\n",
       "      <td>ACN</td>\n",
       "      <td>Accenture</td>\n",
       "      <td>Information Technology</td>\n",
       "      <td>Dublin, Ireland</td>\n",
       "      <td>210.31B</td>\n",
       "      <td>64.11B</td>\n",
       "      <td>10.72%</td>\n",
       "      <td>10.76</td>\n",
       "      <td>31.11</td>\n",
       "      <td>2.74</td>\n",
       "    </tr>\n",
       "  </tbody>\n",
       "</table>\n",
       "</div>"
      ],
      "text/plain": [
       "  Symbol     Security             GICS Sector    Headquarters Location  \\\n",
       "0    MMM           3M             Industrials    Saint Paul, Minnesota   \n",
       "1    AOS  A. O. Smith             Industrials     Milwaukee, Wisconsin   \n",
       "2    ABT       Abbott             Health Care  North Chicago, Illinois   \n",
       "3   ABBV       AbbVie             Health Care  North Chicago, Illinois   \n",
       "4    ACN    Accenture  Information Technology          Dublin, Ireland   \n",
       "\n",
       "  Market Cap / B Revenue (TTM) / B Profit Margin / %  \\\n",
       "0         57.04B            32.75B           -22.59%   \n",
       "1         11.60B              3.8B             7.87%   \n",
       "2        180.64B            39.96B            12.92%   \n",
       "3        261.25B            55.14B            11.81%   \n",
       "4        210.31B            64.11B            10.72%   \n",
       "\n",
       "   Earnings per Share (TTM) / $ Price to Earning ratio (TTM)  \\\n",
       "0                        -13.31                        16.99   \n",
       "1                          2.01                        38.81   \n",
       "2                          2.94                        35.39   \n",
       "3                          3.65                        40.54   \n",
       "4                         10.76                        31.11   \n",
       "\n",
       "   Price to Earnings Growth ratio (5yr expected)  \n",
       "0                                           3.79  \n",
       "1                                           2.00  \n",
       "2                                          24.94  \n",
       "3                                           3.61  \n",
       "4                                           2.74  "
      ]
     },
     "execution_count": 36,
     "metadata": {},
     "output_type": "execute_result"
    }
   ],
   "source": [
    "# reading csv file\n",
    "SnP500_raw_file_data = pd.read_csv(\"SnP500_raw_data.csv\")\n",
    "SnP500_raw_file_data.head()"
   ]
  },
  {
   "cell_type": "code",
   "execution_count": 37,
   "id": "e462477a",
   "metadata": {},
   "outputs": [
    {
     "data": {
      "text/html": [
       "<div>\n",
       "<style scoped>\n",
       "    .dataframe tbody tr th:only-of-type {\n",
       "        vertical-align: middle;\n",
       "    }\n",
       "\n",
       "    .dataframe tbody tr th {\n",
       "        vertical-align: top;\n",
       "    }\n",
       "\n",
       "    .dataframe thead th {\n",
       "        text-align: right;\n",
       "    }\n",
       "</style>\n",
       "<table border=\"1\" class=\"dataframe\">\n",
       "  <thead>\n",
       "    <tr style=\"text-align: right;\">\n",
       "      <th></th>\n",
       "      <th>Symbol</th>\n",
       "      <th>Company</th>\n",
       "      <th>GICS Sector</th>\n",
       "      <th>HQ Country</th>\n",
       "      <th>Market Cap / B</th>\n",
       "      <th>Revenue (TTM) / B</th>\n",
       "      <th>Profit Margin / %</th>\n",
       "      <th>Earnings per Share (TTM) / $</th>\n",
       "      <th>Price to Earning ratio (TTM)</th>\n",
       "      <th>Price to Earnings Growth ratio (5yr expected)</th>\n",
       "    </tr>\n",
       "  </thead>\n",
       "  <tbody>\n",
       "    <tr>\n",
       "      <th>0</th>\n",
       "      <td>MMM</td>\n",
       "      <td>3M</td>\n",
       "      <td>Industrials</td>\n",
       "      <td>Saint Paul, Minnesota</td>\n",
       "      <td>57.04B</td>\n",
       "      <td>32.75B</td>\n",
       "      <td>-22.59%</td>\n",
       "      <td>-13.31</td>\n",
       "      <td>16.99</td>\n",
       "      <td>3.79</td>\n",
       "    </tr>\n",
       "    <tr>\n",
       "      <th>1</th>\n",
       "      <td>AOS</td>\n",
       "      <td>A. O. Smith</td>\n",
       "      <td>Industrials</td>\n",
       "      <td>Milwaukee, Wisconsin</td>\n",
       "      <td>11.60B</td>\n",
       "      <td>3.8B</td>\n",
       "      <td>7.87%</td>\n",
       "      <td>2.01</td>\n",
       "      <td>38.81</td>\n",
       "      <td>2.00</td>\n",
       "    </tr>\n",
       "    <tr>\n",
       "      <th>2</th>\n",
       "      <td>ABT</td>\n",
       "      <td>Abbott</td>\n",
       "      <td>Health Care</td>\n",
       "      <td>North Chicago, Illinois</td>\n",
       "      <td>180.64B</td>\n",
       "      <td>39.96B</td>\n",
       "      <td>12.92%</td>\n",
       "      <td>2.94</td>\n",
       "      <td>35.39</td>\n",
       "      <td>24.94</td>\n",
       "    </tr>\n",
       "    <tr>\n",
       "      <th>3</th>\n",
       "      <td>ABBV</td>\n",
       "      <td>AbbVie</td>\n",
       "      <td>Health Care</td>\n",
       "      <td>North Chicago, Illinois</td>\n",
       "      <td>261.25B</td>\n",
       "      <td>55.14B</td>\n",
       "      <td>11.81%</td>\n",
       "      <td>3.65</td>\n",
       "      <td>40.54</td>\n",
       "      <td>3.61</td>\n",
       "    </tr>\n",
       "    <tr>\n",
       "      <th>4</th>\n",
       "      <td>ACN</td>\n",
       "      <td>Accenture</td>\n",
       "      <td>Information Technology</td>\n",
       "      <td>Dublin, Ireland</td>\n",
       "      <td>210.31B</td>\n",
       "      <td>64.11B</td>\n",
       "      <td>10.72%</td>\n",
       "      <td>10.76</td>\n",
       "      <td>31.11</td>\n",
       "      <td>2.74</td>\n",
       "    </tr>\n",
       "  </tbody>\n",
       "</table>\n",
       "</div>"
      ],
      "text/plain": [
       "  Symbol      Company             GICS Sector               HQ Country  \\\n",
       "0    MMM           3M             Industrials    Saint Paul, Minnesota   \n",
       "1    AOS  A. O. Smith             Industrials     Milwaukee, Wisconsin   \n",
       "2    ABT       Abbott             Health Care  North Chicago, Illinois   \n",
       "3   ABBV       AbbVie             Health Care  North Chicago, Illinois   \n",
       "4    ACN    Accenture  Information Technology          Dublin, Ireland   \n",
       "\n",
       "  Market Cap / B Revenue (TTM) / B Profit Margin / %  \\\n",
       "0         57.04B            32.75B           -22.59%   \n",
       "1         11.60B              3.8B             7.87%   \n",
       "2        180.64B            39.96B            12.92%   \n",
       "3        261.25B            55.14B            11.81%   \n",
       "4        210.31B            64.11B            10.72%   \n",
       "\n",
       "   Earnings per Share (TTM) / $ Price to Earning ratio (TTM)  \\\n",
       "0                        -13.31                        16.99   \n",
       "1                          2.01                        38.81   \n",
       "2                          2.94                        35.39   \n",
       "3                          3.65                        40.54   \n",
       "4                         10.76                        31.11   \n",
       "\n",
       "   Price to Earnings Growth ratio (5yr expected)  \n",
       "0                                           3.79  \n",
       "1                                           2.00  \n",
       "2                                          24.94  \n",
       "3                                           3.61  \n",
       "4                                           2.74  "
      ]
     },
     "execution_count": 37,
     "metadata": {},
     "output_type": "execute_result"
    }
   ],
   "source": [
    "# simplify column names\n",
    "SnP500_columns_renamed = SnP500_raw_file_data.copy()\n",
    "SnP500_columns_renamed = SnP500_columns_renamed.rename(columns={\"Security\": \"Company\", \"Headquarters Location\": \"HQ Country\"})\n",
    "SnP500_columns_renamed.head()"
   ]
  },
  {
   "cell_type": "code",
   "execution_count": 38,
   "id": "ff47f6c9",
   "metadata": {},
   "outputs": [
    {
     "name": "stdout",
     "output_type": "stream",
     "text": [
      "Symbol                                            0\n",
      "Company                                           0\n",
      "GICS Sector                                       0\n",
      "HQ Country                                        0\n",
      "Market Cap / B                                    0\n",
      "Revenue (TTM) / B                                 0\n",
      "Profit Margin / %                                 0\n",
      "Earnings per Share (TTM) / $                      0\n",
      "Price to Earning ratio (TTM)                     20\n",
      "Price to Earnings Growth ratio (5yr expected)    94\n",
      "dtype: int64\n"
     ]
    }
   ],
   "source": [
    "# identify which columns have missing values and how many\n",
    "print(SnP500_columns_renamed.isna().sum())\n",
    "\n",
    "# as such columns 'Price to Earning ratio' and 'Price to Earnings Growth ratio' will be cleaned last"
   ]
  },
  {
   "cell_type": "code",
   "execution_count": 39,
   "id": "479f4087",
   "metadata": {
    "scrolled": true
   },
   "outputs": [
    {
     "name": "stdout",
     "output_type": "stream",
     "text": [
      "['Alabama', 'Alaska', 'Arizona', 'Arkansas', 'California', 'Colorado', 'Connecticut', 'Delaware', 'Florida', 'Georgia', 'Hawaii', 'Idaho', 'Illinois', 'Indiana', 'Iowa', 'Kansas', 'Kentucky', 'Louisiana', 'Maine', 'Maryland', 'Massachusetts', 'Michigan', 'Minnesota', 'Mississippi', 'Missouri', 'Montana', 'Nebraska', 'Nevada', 'New Hampshire', 'New Jersey', 'New Mexico', 'New York', 'North Carolina', 'North Dakota', 'Ohio', 'Oklahoma', 'Oregon', 'Pennsylvania', 'Rhode Island', 'South Carolina', 'South Dakota', 'Tennessee', 'Texas', 'Utah', 'Vermont', 'Virginia', 'Washington', 'West Virginia', 'Wisconsin', 'Wyoming']\n",
      "{'Utah', 'New Jersey', 'North Carolina', 'Nebraska', 'Indiana', 'Colorado', 'Israel', 'Wisconsin', 'Montana', 'Idaho', 'Nevada', 'Florida', 'California', 'Minnesota', 'Virginia', 'UK', 'Georgia', 'Switzerland', 'Pennsylvania', 'Netherlands', 'Oklahoma', 'Ireland', 'Louisiana', 'Canada', 'Maine', 'Ohio', 'Texas', 'Rhode Island', 'Missouri', 'Arizona', 'Iowa', 'United Kingdom', 'Illinois', 'Delaware', 'Bermuda', 'Oregon', 'D.C.', 'Kentucky', 'Maryland', 'Tennessee', 'Massachusetts', 'Connecticut', 'Arkansas', 'Michigan', 'Washington', 'Alabama', 'New York'}\n"
     ]
    }
   ],
   "source": [
    "# HQ country column to contain countries only\n",
    "\n",
    "# scraping all American states from Wikipedia\n",
    "url_link = 'https://en.wikipedia.org/wiki/List_of_states_and_territories_of_the_United_States'\n",
    "response = requests.get(url_link)\n",
    "american_states = pd.read_html(response.text)[1].iloc[:,0]\n",
    "\n",
    "# cleaning data fetched from Wikipedia\n",
    "american_states = list(american_states.str.rstrip(to_strip=\"[B]\"))\n",
    "print(american_states)\n",
    "\n",
    "# indentifying unique countries/states, and duplication\n",
    "unique_states_countries = set([location.split(',')[-1].strip() for location in list(SnP500_columns_renamed.iloc[:,3])])  \n",
    "print(unique_states_countries)\n",
    "\n",
    "# creating a copy of dataframe where HQ location data can be cleaned \n",
    "SnP500_HQ_location_cleaned = SnP500_columns_renamed.copy()\n",
    "\n",
    "# creating empty list to store the states or city extracted from the HQ location column\n",
    "state_or_city = []\n",
    "\n",
    "# looping through the HQ Country column and changing values individually\n",
    "for i in range(len(SnP500_columns_renamed)):\n",
    "    \n",
    "    location = (SnP500_columns_renamed.iat[i,3]).split(',')[-1].strip()\n",
    "    \n",
    "    if (location in american_states) or (location == \"D.C.\"):\n",
    "        \n",
    "        SnP500_HQ_location_cleaned.iat[i,3] = \"United States\"\n",
    "    \n",
    "        if location == \"D.C.\":\n",
    "            state_or_city.append(\"Washington\")\n",
    "        else:\n",
    "            state_or_city.append(location)\n",
    "            \n",
    "    elif location == \"UK\":\n",
    "        \n",
    "        SnP500_HQ_location_cleaned.iat[i,3] = \"United Kingdom\"\n",
    "        state_or_city.append(((SnP500_columns_renamed.iat[i,3]).split(',')[-2]).strip())\n",
    "    \n",
    "    else:\n",
    "        \n",
    "        SnP500_HQ_location_cleaned.iat[i,3] = location\n",
    "        state_or_city.append(((SnP500_columns_renamed.iat[i,3]).split(',')[-2]).strip())\n",
    "\n",
    "# converting list to pandas Dataframe\n",
    "state_or_city = pd.DataFrame(data = state_or_city)\n",
    "\n",
    "# inserting Dataframe to the main dataset\n",
    "SnP500_HQ_location_cleaned.insert(loc = 4, value = state_or_city, column = \"HQ State/City\")\n",
    "\n",
    "# # saving as csv to for reference and checking entire dataset\n",
    "# SnP500_HQ_location_cleaned.to_csv(\"tests/test1_HQ_Location.csv\", index= False)"
   ]
  },
  {
   "cell_type": "code",
   "execution_count": 40,
   "id": "3632ed63",
   "metadata": {
    "scrolled": false
   },
   "outputs": [
    {
     "data": {
      "text/html": [
       "<div>\n",
       "<style scoped>\n",
       "    .dataframe tbody tr th:only-of-type {\n",
       "        vertical-align: middle;\n",
       "    }\n",
       "\n",
       "    .dataframe tbody tr th {\n",
       "        vertical-align: top;\n",
       "    }\n",
       "\n",
       "    .dataframe thead th {\n",
       "        text-align: right;\n",
       "    }\n",
       "</style>\n",
       "<table border=\"1\" class=\"dataframe\">\n",
       "  <thead>\n",
       "    <tr style=\"text-align: right;\">\n",
       "      <th></th>\n",
       "      <th>Symbol</th>\n",
       "      <th>Company</th>\n",
       "      <th>GICS Sector</th>\n",
       "      <th>HQ Country</th>\n",
       "      <th>HQ State/City</th>\n",
       "      <th>Market Cap / B</th>\n",
       "      <th>Revenue (TTM) / B</th>\n",
       "      <th>Profit Margin / %</th>\n",
       "      <th>Earnings per Share (TTM) / $</th>\n",
       "      <th>Price to Earning ratio (TTM)</th>\n",
       "      <th>Price to Earnings Growth ratio (5yr expected)</th>\n",
       "    </tr>\n",
       "  </thead>\n",
       "  <tbody>\n",
       "    <tr>\n",
       "      <th>0</th>\n",
       "      <td>MMM</td>\n",
       "      <td>3M</td>\n",
       "      <td>Industrials</td>\n",
       "      <td>United States</td>\n",
       "      <td>Minnesota</td>\n",
       "      <td>57.04B</td>\n",
       "      <td>32.75B</td>\n",
       "      <td>-22.59%</td>\n",
       "      <td>-13.31</td>\n",
       "      <td>16.99</td>\n",
       "      <td>3.79</td>\n",
       "    </tr>\n",
       "    <tr>\n",
       "      <th>1</th>\n",
       "      <td>AOS</td>\n",
       "      <td>A. O. Smith</td>\n",
       "      <td>Industrials</td>\n",
       "      <td>United States</td>\n",
       "      <td>Wisconsin</td>\n",
       "      <td>11.60B</td>\n",
       "      <td>3.8B</td>\n",
       "      <td>7.87%</td>\n",
       "      <td>2.01</td>\n",
       "      <td>38.81</td>\n",
       "      <td>2.00</td>\n",
       "    </tr>\n",
       "    <tr>\n",
       "      <th>2</th>\n",
       "      <td>ABT</td>\n",
       "      <td>Abbott</td>\n",
       "      <td>Health Care</td>\n",
       "      <td>United States</td>\n",
       "      <td>Illinois</td>\n",
       "      <td>180.64B</td>\n",
       "      <td>39.96B</td>\n",
       "      <td>12.92%</td>\n",
       "      <td>2.94</td>\n",
       "      <td>35.39</td>\n",
       "      <td>24.94</td>\n",
       "    </tr>\n",
       "    <tr>\n",
       "      <th>3</th>\n",
       "      <td>ABBV</td>\n",
       "      <td>AbbVie</td>\n",
       "      <td>Health Care</td>\n",
       "      <td>United States</td>\n",
       "      <td>Illinois</td>\n",
       "      <td>261.25B</td>\n",
       "      <td>55.14B</td>\n",
       "      <td>11.81%</td>\n",
       "      <td>3.65</td>\n",
       "      <td>40.54</td>\n",
       "      <td>3.61</td>\n",
       "    </tr>\n",
       "    <tr>\n",
       "      <th>4</th>\n",
       "      <td>ACN</td>\n",
       "      <td>Accenture</td>\n",
       "      <td>Information Technology</td>\n",
       "      <td>Ireland</td>\n",
       "      <td>Dublin</td>\n",
       "      <td>210.31B</td>\n",
       "      <td>64.11B</td>\n",
       "      <td>10.72%</td>\n",
       "      <td>10.76</td>\n",
       "      <td>31.11</td>\n",
       "      <td>2.74</td>\n",
       "    </tr>\n",
       "  </tbody>\n",
       "</table>\n",
       "</div>"
      ],
      "text/plain": [
       "  Symbol      Company             GICS Sector     HQ Country HQ State/City  \\\n",
       "0    MMM           3M             Industrials  United States     Minnesota   \n",
       "1    AOS  A. O. Smith             Industrials  United States     Wisconsin   \n",
       "2    ABT       Abbott             Health Care  United States      Illinois   \n",
       "3   ABBV       AbbVie             Health Care  United States      Illinois   \n",
       "4    ACN    Accenture  Information Technology        Ireland        Dublin   \n",
       "\n",
       "  Market Cap / B Revenue (TTM) / B Profit Margin / %  \\\n",
       "0         57.04B            32.75B           -22.59%   \n",
       "1         11.60B              3.8B             7.87%   \n",
       "2        180.64B            39.96B            12.92%   \n",
       "3        261.25B            55.14B            11.81%   \n",
       "4        210.31B            64.11B            10.72%   \n",
       "\n",
       "   Earnings per Share (TTM) / $ Price to Earning ratio (TTM)  \\\n",
       "0                        -13.31                        16.99   \n",
       "1                          2.01                        38.81   \n",
       "2                          2.94                        35.39   \n",
       "3                          3.65                        40.54   \n",
       "4                         10.76                        31.11   \n",
       "\n",
       "   Price to Earnings Growth ratio (5yr expected)  \n",
       "0                                           3.79  \n",
       "1                                           2.00  \n",
       "2                                          24.94  \n",
       "3                                           3.61  \n",
       "4                                           2.74  "
      ]
     },
     "execution_count": 40,
     "metadata": {},
     "output_type": "execute_result"
    }
   ],
   "source": [
    "# checking head data\n",
    "SnP500_HQ_location_cleaned.head()"
   ]
  },
  {
   "cell_type": "code",
   "execution_count": 41,
   "id": "10f0205d",
   "metadata": {},
   "outputs": [
    {
     "name": "stdout",
     "output_type": "stream",
     "text": [
      "<class 'pandas.core.frame.DataFrame'>\n",
      "RangeIndex: 503 entries, 0 to 502\n",
      "Data columns (total 11 columns):\n",
      " #   Column                                         Non-Null Count  Dtype  \n",
      "---  ------                                         --------------  -----  \n",
      " 0   Symbol                                         503 non-null    object \n",
      " 1   Company                                        503 non-null    object \n",
      " 2   GICS Sector                                    503 non-null    object \n",
      " 3   HQ Country                                     503 non-null    object \n",
      " 4   HQ State/City                                  503 non-null    object \n",
      " 5   Market Cap / B                                 503 non-null    object \n",
      " 6   Revenue (TTM) / B                              503 non-null    object \n",
      " 7   Profit Margin / %                              503 non-null    object \n",
      " 8   Earnings per Share (TTM) / $                   503 non-null    float64\n",
      " 9   Price to Earning ratio (TTM)                   483 non-null    object \n",
      " 10  Price to Earnings Growth ratio (5yr expected)  409 non-null    float64\n",
      "dtypes: float64(2), object(9)\n",
      "memory usage: 43.4+ KB\n"
     ]
    }
   ],
   "source": [
    "# checking data types of numeric columns (from Market Cap onwards) and to see if they may contain any units\n",
    "SnP500_HQ_location_cleaned.info()\n",
    "\n",
    "# based on this column Earnings per Share contains only numeric, and therefore only needs to be to 2 decimal places, \n",
    "# and the rest of the columns may contain units and or nan values"
   ]
  },
  {
   "cell_type": "code",
   "execution_count": 42,
   "id": "184a274a",
   "metadata": {
    "scrolled": false
   },
   "outputs": [
    {
     "name": "stdout",
     "output_type": "stream",
     "text": [
      "{'T', 'B'}\n",
      "{'M', 'B'}\n",
      "{'%'}\n"
     ]
    }
   ],
   "source": [
    "# creating a copy of dataframe where values for 'Market Cap', 'Revenue' and Profit Margin' can be cleaned \n",
    "SnP500_units_cleaned = SnP500_HQ_location_cleaned.copy()\n",
    "\n",
    "# checking for different units in columns Market Cap and Revenue\n",
    "units_market_cap = set(SnP500_units_cleaned['Market Cap / B'].str.slice(-1))\n",
    "units_revenue = set(SnP500_units_cleaned['Revenue (TTM) / B'].str.slice(-1))\n",
    "units_profit_margin = set(SnP500_units_cleaned['Profit Margin / %'].str.slice(-1))\n",
    "print(units_market_cap)\n",
    "print(units_revenue)\n",
    "print(units_profit_margin)\n",
    "\n",
    "# based on this all three columns need to have the units removed and rounded to 2 decimal places, and EPS column only needs \n",
    "# to be rounded to 2 decimal places\n",
    "\n",
    "# iterating through all rows of data and adjusting values for all four columns\n",
    "for i in range(len(SnP500_units_cleaned)):\n",
    "    \n",
    "    SnP500_units_cleaned.iat[i,7] = round(float(SnP500_units_cleaned.iat[i,7][:-1]), decimals=2)\n",
    "    SnP500_units_cleaned.iat[i,8] = round(float(SnP500_units_cleaned.iat[i,8]), decimals=2)\n",
    "    \n",
    "    if SnP500_units_cleaned.iat[i,5][-1]==\"T\":\n",
    "        SnP500_units_cleaned.iat[i,5] = round(float(SnP500_units_cleaned.iat[i,5][:-1])*1000, decimals=2)\n",
    "    else:\n",
    "        SnP500_units_cleaned.iat[i,5] = round(float(SnP500_units_cleaned.iat[i,5][:-1]), decimals=2)\n",
    "        \n",
    "    \n",
    "    if SnP500_units_cleaned.iat[i,6][-1]==\"M\":\n",
    "        SnP500_units_cleaned.iat[i,6] = round(float(SnP500_units_cleaned.iat[i,6][:-1])/1000, decimals=2)\n",
    "    else:\n",
    "        SnP500_units_cleaned.iat[i,6] = round(float(SnP500_units_cleaned.iat[i,6][:-1]), decimals=2)\n",
    "\n",
    "# # saving as csv to for reference and checking entire dataset\n",
    "# SnP500_units_cleaned.to_csv(\"tests/test2_Standardising_Units.csv\", index= False)"
   ]
  },
  {
   "cell_type": "code",
   "execution_count": 43,
   "id": "c6064854",
   "metadata": {
    "scrolled": true
   },
   "outputs": [
    {
     "data": {
      "text/html": [
       "<div>\n",
       "<style scoped>\n",
       "    .dataframe tbody tr th:only-of-type {\n",
       "        vertical-align: middle;\n",
       "    }\n",
       "\n",
       "    .dataframe tbody tr th {\n",
       "        vertical-align: top;\n",
       "    }\n",
       "\n",
       "    .dataframe thead th {\n",
       "        text-align: right;\n",
       "    }\n",
       "</style>\n",
       "<table border=\"1\" class=\"dataframe\">\n",
       "  <thead>\n",
       "    <tr style=\"text-align: right;\">\n",
       "      <th></th>\n",
       "      <th>Symbol</th>\n",
       "      <th>Company</th>\n",
       "      <th>GICS Sector</th>\n",
       "      <th>HQ Country</th>\n",
       "      <th>HQ State/City</th>\n",
       "      <th>Market Cap / B</th>\n",
       "      <th>Revenue (TTM) / B</th>\n",
       "      <th>Profit Margin / %</th>\n",
       "      <th>Earnings per Share (TTM) / $</th>\n",
       "      <th>Price to Earning ratio (TTM)</th>\n",
       "      <th>Price to Earnings Growth ratio (5yr expected)</th>\n",
       "    </tr>\n",
       "  </thead>\n",
       "  <tbody>\n",
       "    <tr>\n",
       "      <th>0</th>\n",
       "      <td>MMM</td>\n",
       "      <td>3M</td>\n",
       "      <td>Industrials</td>\n",
       "      <td>United States</td>\n",
       "      <td>Minnesota</td>\n",
       "      <td>57.04</td>\n",
       "      <td>32.75</td>\n",
       "      <td>-22.59</td>\n",
       "      <td>-13.31</td>\n",
       "      <td>16.99</td>\n",
       "      <td>3.79</td>\n",
       "    </tr>\n",
       "    <tr>\n",
       "      <th>1</th>\n",
       "      <td>AOS</td>\n",
       "      <td>A. O. Smith</td>\n",
       "      <td>Industrials</td>\n",
       "      <td>United States</td>\n",
       "      <td>Wisconsin</td>\n",
       "      <td>11.6</td>\n",
       "      <td>3.8</td>\n",
       "      <td>7.87</td>\n",
       "      <td>2.01</td>\n",
       "      <td>38.81</td>\n",
       "      <td>2.00</td>\n",
       "    </tr>\n",
       "    <tr>\n",
       "      <th>2</th>\n",
       "      <td>ABT</td>\n",
       "      <td>Abbott</td>\n",
       "      <td>Health Care</td>\n",
       "      <td>United States</td>\n",
       "      <td>Illinois</td>\n",
       "      <td>180.64</td>\n",
       "      <td>39.96</td>\n",
       "      <td>12.92</td>\n",
       "      <td>2.94</td>\n",
       "      <td>35.39</td>\n",
       "      <td>24.94</td>\n",
       "    </tr>\n",
       "    <tr>\n",
       "      <th>3</th>\n",
       "      <td>ABBV</td>\n",
       "      <td>AbbVie</td>\n",
       "      <td>Health Care</td>\n",
       "      <td>United States</td>\n",
       "      <td>Illinois</td>\n",
       "      <td>261.25</td>\n",
       "      <td>55.14</td>\n",
       "      <td>11.81</td>\n",
       "      <td>3.65</td>\n",
       "      <td>40.54</td>\n",
       "      <td>3.61</td>\n",
       "    </tr>\n",
       "    <tr>\n",
       "      <th>4</th>\n",
       "      <td>ACN</td>\n",
       "      <td>Accenture</td>\n",
       "      <td>Information Technology</td>\n",
       "      <td>Ireland</td>\n",
       "      <td>Dublin</td>\n",
       "      <td>210.31</td>\n",
       "      <td>64.11</td>\n",
       "      <td>10.72</td>\n",
       "      <td>10.76</td>\n",
       "      <td>31.11</td>\n",
       "      <td>2.74</td>\n",
       "    </tr>\n",
       "  </tbody>\n",
       "</table>\n",
       "</div>"
      ],
      "text/plain": [
       "  Symbol      Company             GICS Sector     HQ Country HQ State/City  \\\n",
       "0    MMM           3M             Industrials  United States     Minnesota   \n",
       "1    AOS  A. O. Smith             Industrials  United States     Wisconsin   \n",
       "2    ABT       Abbott             Health Care  United States      Illinois   \n",
       "3   ABBV       AbbVie             Health Care  United States      Illinois   \n",
       "4    ACN    Accenture  Information Technology        Ireland        Dublin   \n",
       "\n",
       "  Market Cap / B Revenue (TTM) / B Profit Margin / %  \\\n",
       "0          57.04             32.75            -22.59   \n",
       "1           11.6               3.8              7.87   \n",
       "2         180.64             39.96             12.92   \n",
       "3         261.25             55.14             11.81   \n",
       "4         210.31             64.11             10.72   \n",
       "\n",
       "   Earnings per Share (TTM) / $ Price to Earning ratio (TTM)  \\\n",
       "0                        -13.31                        16.99   \n",
       "1                          2.01                        38.81   \n",
       "2                          2.94                        35.39   \n",
       "3                          3.65                        40.54   \n",
       "4                         10.76                        31.11   \n",
       "\n",
       "   Price to Earnings Growth ratio (5yr expected)  \n",
       "0                                           3.79  \n",
       "1                                           2.00  \n",
       "2                                          24.94  \n",
       "3                                           3.61  \n",
       "4                                           2.74  "
      ]
     },
     "execution_count": 43,
     "metadata": {},
     "output_type": "execute_result"
    }
   ],
   "source": [
    "# checking head data\n",
    "SnP500_units_cleaned.head()"
   ]
  },
  {
   "cell_type": "code",
   "execution_count": 44,
   "id": "15cbd227",
   "metadata": {
    "scrolled": true
   },
   "outputs": [
    {
     "data": {
      "text/html": [
       "<div>\n",
       "<style scoped>\n",
       "    .dataframe tbody tr th:only-of-type {\n",
       "        vertical-align: middle;\n",
       "    }\n",
       "\n",
       "    .dataframe tbody tr th {\n",
       "        vertical-align: top;\n",
       "    }\n",
       "\n",
       "    .dataframe thead th {\n",
       "        text-align: right;\n",
       "    }\n",
       "</style>\n",
       "<table border=\"1\" class=\"dataframe\">\n",
       "  <thead>\n",
       "    <tr style=\"text-align: right;\">\n",
       "      <th></th>\n",
       "      <th>Symbol</th>\n",
       "      <th>Company</th>\n",
       "      <th>GICS Sector</th>\n",
       "      <th>HQ Country</th>\n",
       "      <th>HQ State/City</th>\n",
       "      <th>Market Cap / B</th>\n",
       "      <th>Revenue (TTM) / B</th>\n",
       "      <th>Profit Margin / %</th>\n",
       "      <th>Earnings per Share (TTM) / $</th>\n",
       "      <th>Price to Earning ratio (TTM)</th>\n",
       "      <th>Price to Earnings Growth ratio (5yr expected)</th>\n",
       "    </tr>\n",
       "  </thead>\n",
       "  <tbody>\n",
       "    <tr>\n",
       "      <th>0</th>\n",
       "      <td>AAPL</td>\n",
       "      <td>Apple Inc.</td>\n",
       "      <td>Information Technology</td>\n",
       "      <td>United States</td>\n",
       "      <td>California</td>\n",
       "      <td>3020.0</td>\n",
       "      <td>383.29</td>\n",
       "      <td>25.31</td>\n",
       "      <td>6.14</td>\n",
       "      <td>31.69</td>\n",
       "      <td>2.33</td>\n",
       "    </tr>\n",
       "    <tr>\n",
       "      <th>1</th>\n",
       "      <td>MSFT</td>\n",
       "      <td>Microsoft</td>\n",
       "      <td>Information Technology</td>\n",
       "      <td>United States</td>\n",
       "      <td>Washington</td>\n",
       "      <td>2760.0</td>\n",
       "      <td>218.31</td>\n",
       "      <td>35.31</td>\n",
       "      <td>10.31</td>\n",
       "      <td>35.94</td>\n",
       "      <td>2.21</td>\n",
       "    </tr>\n",
       "    <tr>\n",
       "      <th>2</th>\n",
       "      <td>GOOG</td>\n",
       "      <td>Alphabet Inc. (Class C)</td>\n",
       "      <td>Communication Services</td>\n",
       "      <td>United States</td>\n",
       "      <td>California</td>\n",
       "      <td>1720.0</td>\n",
       "      <td>297.13</td>\n",
       "      <td>22.46</td>\n",
       "      <td>5.22</td>\n",
       "      <td>26.52</td>\n",
       "      <td>1.30</td>\n",
       "    </tr>\n",
       "    <tr>\n",
       "      <th>3</th>\n",
       "      <td>GOOGL</td>\n",
       "      <td>Alphabet Inc. (Class A)</td>\n",
       "      <td>Communication Services</td>\n",
       "      <td>United States</td>\n",
       "      <td>California</td>\n",
       "      <td>1720.0</td>\n",
       "      <td>297.13</td>\n",
       "      <td>22.46</td>\n",
       "      <td>5.22</td>\n",
       "      <td>26.24</td>\n",
       "      <td>1.29</td>\n",
       "    </tr>\n",
       "    <tr>\n",
       "      <th>4</th>\n",
       "      <td>AMZN</td>\n",
       "      <td>Amazon</td>\n",
       "      <td>Consumer Discretionary</td>\n",
       "      <td>United States</td>\n",
       "      <td>Washington</td>\n",
       "      <td>1520.0</td>\n",
       "      <td>554.03</td>\n",
       "      <td>3.62</td>\n",
       "      <td>1.91</td>\n",
       "      <td>76.90</td>\n",
       "      <td>2.42</td>\n",
       "    </tr>\n",
       "  </tbody>\n",
       "</table>\n",
       "</div>"
      ],
      "text/plain": [
       "  Symbol                  Company             GICS Sector     HQ Country  \\\n",
       "0   AAPL               Apple Inc.  Information Technology  United States   \n",
       "1   MSFT                Microsoft  Information Technology  United States   \n",
       "2   GOOG  Alphabet Inc. (Class C)  Communication Services  United States   \n",
       "3  GOOGL  Alphabet Inc. (Class A)  Communication Services  United States   \n",
       "4   AMZN                   Amazon  Consumer Discretionary  United States   \n",
       "\n",
       "  HQ State/City Market Cap / B Revenue (TTM) / B Profit Margin / %  \\\n",
       "0    California         3020.0            383.29             25.31   \n",
       "1    Washington         2760.0            218.31             35.31   \n",
       "2    California         1720.0            297.13             22.46   \n",
       "3    California         1720.0            297.13             22.46   \n",
       "4    Washington         1520.0            554.03              3.62   \n",
       "\n",
       "   Earnings per Share (TTM) / $ Price to Earning ratio (TTM)  \\\n",
       "0                          6.14                        31.69   \n",
       "1                         10.31                        35.94   \n",
       "2                          5.22                        26.52   \n",
       "3                          5.22                        26.24   \n",
       "4                          1.91                        76.90   \n",
       "\n",
       "   Price to Earnings Growth ratio (5yr expected)  \n",
       "0                                           2.33  \n",
       "1                                           2.21  \n",
       "2                                           1.30  \n",
       "3                                           1.29  \n",
       "4                                           2.42  "
      ]
     },
     "execution_count": 44,
     "metadata": {},
     "output_type": "execute_result"
    }
   ],
   "source": [
    "# create a copy to arrange companies based on market capitalisation\n",
    "SnP500_sorted = SnP500_units_cleaned.copy()\n",
    "\n",
    "# ordering the companys based on largest 'Market Cap' to the smallest, and readjusting the index values to reflect ranking\n",
    "SnP500_sorted = SnP500_sorted.sort_values(\"Market Cap / B\", ascending = False, ignore_index=True)\n",
    "\n",
    "# checking head data\n",
    "SnP500_sorted.head()"
   ]
  },
  {
   "cell_type": "code",
   "execution_count": 45,
   "id": "13ebe93e",
   "metadata": {},
   "outputs": [],
   "source": [
    "# # saving as csv to for reference and checking entire dataset\n",
    "# SnP500_sorted.to_csv(\"tests/test3_Market_Cap_Ordering.csv\", index= False)"
   ]
  },
  {
   "cell_type": "code",
   "execution_count": 46,
   "id": "5fa613ef",
   "metadata": {},
   "outputs": [
    {
     "name": "stdout",
     "output_type": "stream",
     "text": [
      "Symbol                                            0\n",
      "Company                                           0\n",
      "GICS Sector                                       0\n",
      "HQ Country                                        0\n",
      "HQ State/City                                     0\n",
      "Market Cap / B                                    0\n",
      "Revenue (TTM) / B                                 0\n",
      "Profit Margin / %                                 0\n",
      "Earnings per Share (TTM) / $                      0\n",
      "Price to Earning ratio (TTM)                     20\n",
      "Price to Earnings Growth ratio (5yr expected)    94\n",
      "dtype: int64\n"
     ]
    }
   ],
   "source": [
    "# ensuring data quality maintained by checking on null values\n",
    "print(SnP500_sorted.isna().sum())"
   ]
  },
  {
   "cell_type": "markdown",
   "id": "aa806205",
   "metadata": {},
   "source": [
    "Upon research, it was found that PEG (5yr forecasted) is a niche ratio that is presented in Yahoo finance, as such there\n",
    "are a 94 missing datapoints which are not found in any other open stock websites. The equation for PEG is:\n",
    "- `PEG = price to earnings ratio / project EPS growth (%)`\n",
    "\n",
    "However, to calculate the datapoints from the above equation, EPS projected value for the next five years is required and Yahoo finance only provides one year ahead expected.\n",
    "\n",
    "As such, it was decided to drop the feature as opposed to removing the 94 entries because the aim of the analysis was to look at 500 of S&P500 companies and 94 missing entries would suggest that almost 1/5th of the companies are dropped from the analysis."
   ]
  },
  {
   "cell_type": "code",
   "execution_count": 47,
   "id": "bca08afd",
   "metadata": {
    "scrolled": true
   },
   "outputs": [],
   "source": [
    "# dropping PEG column\n",
    "SnP500_PEG_dropped = SnP500_sorted.drop(labels=\"Price to Earnings Growth ratio (5yr expected)\", axis = 1)\n",
    "\n",
    "# # saving as csv to for reference and checking entire dataset\n",
    "# SnP500_PEG_dropped.to_csv(\"tests/test4_PEG_column_dropped.csv\", index= False)"
   ]
  },
  {
   "cell_type": "code",
   "execution_count": 48,
   "id": "168bc40b",
   "metadata": {
    "scrolled": false
   },
   "outputs": [
    {
     "data": {
      "text/html": [
       "<div>\n",
       "<style scoped>\n",
       "    .dataframe tbody tr th:only-of-type {\n",
       "        vertical-align: middle;\n",
       "    }\n",
       "\n",
       "    .dataframe tbody tr th {\n",
       "        vertical-align: top;\n",
       "    }\n",
       "\n",
       "    .dataframe thead th {\n",
       "        text-align: right;\n",
       "    }\n",
       "</style>\n",
       "<table border=\"1\" class=\"dataframe\">\n",
       "  <thead>\n",
       "    <tr style=\"text-align: right;\">\n",
       "      <th></th>\n",
       "      <th>Symbol</th>\n",
       "      <th>Company</th>\n",
       "      <th>GICS Sector</th>\n",
       "      <th>HQ Country</th>\n",
       "      <th>HQ State/City</th>\n",
       "      <th>Market Cap / B</th>\n",
       "      <th>Revenue (TTM) / B</th>\n",
       "      <th>Profit Margin / %</th>\n",
       "      <th>Earnings per Share (TTM) / $</th>\n",
       "      <th>Price to Earning ratio (TTM)</th>\n",
       "    </tr>\n",
       "  </thead>\n",
       "  <tbody>\n",
       "    <tr>\n",
       "      <th>0</th>\n",
       "      <td>AAPL</td>\n",
       "      <td>Apple Inc.</td>\n",
       "      <td>Information Technology</td>\n",
       "      <td>United States</td>\n",
       "      <td>California</td>\n",
       "      <td>3020.0</td>\n",
       "      <td>383.29</td>\n",
       "      <td>25.31</td>\n",
       "      <td>6.14</td>\n",
       "      <td>31.69</td>\n",
       "    </tr>\n",
       "    <tr>\n",
       "      <th>1</th>\n",
       "      <td>MSFT</td>\n",
       "      <td>Microsoft</td>\n",
       "      <td>Information Technology</td>\n",
       "      <td>United States</td>\n",
       "      <td>Washington</td>\n",
       "      <td>2760.0</td>\n",
       "      <td>218.31</td>\n",
       "      <td>35.31</td>\n",
       "      <td>10.31</td>\n",
       "      <td>35.94</td>\n",
       "    </tr>\n",
       "    <tr>\n",
       "      <th>2</th>\n",
       "      <td>GOOG</td>\n",
       "      <td>Alphabet Inc. (Class C)</td>\n",
       "      <td>Communication Services</td>\n",
       "      <td>United States</td>\n",
       "      <td>California</td>\n",
       "      <td>1720.0</td>\n",
       "      <td>297.13</td>\n",
       "      <td>22.46</td>\n",
       "      <td>5.22</td>\n",
       "      <td>26.52</td>\n",
       "    </tr>\n",
       "    <tr>\n",
       "      <th>3</th>\n",
       "      <td>GOOGL</td>\n",
       "      <td>Alphabet Inc. (Class A)</td>\n",
       "      <td>Communication Services</td>\n",
       "      <td>United States</td>\n",
       "      <td>California</td>\n",
       "      <td>1720.0</td>\n",
       "      <td>297.13</td>\n",
       "      <td>22.46</td>\n",
       "      <td>5.22</td>\n",
       "      <td>26.24</td>\n",
       "    </tr>\n",
       "    <tr>\n",
       "      <th>4</th>\n",
       "      <td>AMZN</td>\n",
       "      <td>Amazon</td>\n",
       "      <td>Consumer Discretionary</td>\n",
       "      <td>United States</td>\n",
       "      <td>Washington</td>\n",
       "      <td>1520.0</td>\n",
       "      <td>554.03</td>\n",
       "      <td>3.62</td>\n",
       "      <td>1.91</td>\n",
       "      <td>76.90</td>\n",
       "    </tr>\n",
       "  </tbody>\n",
       "</table>\n",
       "</div>"
      ],
      "text/plain": [
       "  Symbol                  Company             GICS Sector     HQ Country  \\\n",
       "0   AAPL               Apple Inc.  Information Technology  United States   \n",
       "1   MSFT                Microsoft  Information Technology  United States   \n",
       "2   GOOG  Alphabet Inc. (Class C)  Communication Services  United States   \n",
       "3  GOOGL  Alphabet Inc. (Class A)  Communication Services  United States   \n",
       "4   AMZN                   Amazon  Consumer Discretionary  United States   \n",
       "\n",
       "  HQ State/City Market Cap / B Revenue (TTM) / B Profit Margin / %  \\\n",
       "0    California         3020.0            383.29             25.31   \n",
       "1    Washington         2760.0            218.31             35.31   \n",
       "2    California         1720.0            297.13             22.46   \n",
       "3    California         1720.0            297.13             22.46   \n",
       "4    Washington         1520.0            554.03              3.62   \n",
       "\n",
       "   Earnings per Share (TTM) / $ Price to Earning ratio (TTM)  \n",
       "0                          6.14                        31.69  \n",
       "1                         10.31                        35.94  \n",
       "2                          5.22                        26.52  \n",
       "3                          5.22                        26.24  \n",
       "4                          1.91                        76.90  "
      ]
     },
     "execution_count": 48,
     "metadata": {},
     "output_type": "execute_result"
    }
   ],
   "source": [
    "# checking head data\n",
    "SnP500_PEG_dropped.head()"
   ]
  },
  {
   "cell_type": "code",
   "execution_count": 49,
   "id": "cb5d26ed",
   "metadata": {},
   "outputs": [
    {
     "name": "stdout",
     "output_type": "stream",
     "text": [
      "['INTC', 'BA', 'T', 'MET', 'ALL', 'FIS', 'WBD', 'TTWO', 'ILMN', 'TSN', 'STX', 'WDC', 'SWK', 'SJM', 'AES', 'NRG', 'PARA', 'QRVO', 'BIO', 'CTLT']\n"
     ]
    }
   ],
   "source": [
    "# filling out missing PE ratios with raw data from Yahoo finance\n",
    "\n",
    "# finding out which companies have missing PE ratios\n",
    "companies_with_no_PE_ratios = list(SnP500_PEG_dropped['Symbol'][SnP500_PEG_dropped['Price to Earning ratio (TTM)'].isna()])\n",
    "print(companies_with_no_PE_ratios)\n",
    "\n",
    "# creating a function which utilises functions from yfinance python library\n",
    "# (https://github.com/ranaroussi/yfinance/tree/main) to extract EPS data from quartery income statement and current share\n",
    "# price\n",
    "def yahoo_finance_PE_ratio(symbol:str):\n",
    "    '''\n",
    "    Returns Profit to Earnings ratio.\n",
    "\n",
    "            Parameters:\n",
    "                    symbol (str): Stock symbols; e.g. AAPL for Apple\n",
    "\n",
    "            Returns:\n",
    "                    Profit to Earnings ratio (float): calculated by dividing current share price \n",
    "                    by the sum of EPS over the last 4 quarters\n",
    "    '''  \n",
    "    company = yf.Ticker(symbol)\n",
    "    PE_ratio = (company.info['currentPrice'])/(company.quarterly_income_stmt.iloc[20,0:4].sum())\n",
    "    return PE_ratio \n",
    "\n",
    "# iterating through the list of companies with no PE_ratio and using the function to calculate it\n",
    "for company in companies_with_no_PE_ratios:\n",
    "    PE_ratio = yahoo_finance_PE_ratio(company)\n",
    "    index = SnP500_PEG_dropped.index[SnP500_PEG_dropped['Symbol']==company]\n",
    "    SnP500_PEG_dropped.iat[index[0],9] = round(PE_ratio, decimals=2)"
   ]
  },
  {
   "cell_type": "code",
   "execution_count": 50,
   "id": "ac67caf8",
   "metadata": {},
   "outputs": [
    {
     "name": "stdout",
     "output_type": "stream",
     "text": [
      "Symbol                          0\n",
      "Company                         0\n",
      "GICS Sector                     0\n",
      "HQ Country                      0\n",
      "HQ State/City                   0\n",
      "Market Cap / B                  0\n",
      "Revenue (TTM) / B               0\n",
      "Profit Margin / %               0\n",
      "Earnings per Share (TTM) / $    0\n",
      "Price to Earning ratio (TTM)    0\n",
      "dtype: int64\n"
     ]
    }
   ],
   "source": [
    "# checking that there are no missing PE_ratios anymore\n",
    "print(SnP500_PEG_dropped.isna().sum())"
   ]
  },
  {
   "cell_type": "code",
   "execution_count": 51,
   "id": "55ea1163",
   "metadata": {
    "scrolled": true
   },
   "outputs": [
    {
     "data": {
      "text/html": [
       "<div>\n",
       "<style scoped>\n",
       "    .dataframe tbody tr th:only-of-type {\n",
       "        vertical-align: middle;\n",
       "    }\n",
       "\n",
       "    .dataframe tbody tr th {\n",
       "        vertical-align: top;\n",
       "    }\n",
       "\n",
       "    .dataframe thead th {\n",
       "        text-align: right;\n",
       "    }\n",
       "</style>\n",
       "<table border=\"1\" class=\"dataframe\">\n",
       "  <thead>\n",
       "    <tr style=\"text-align: right;\">\n",
       "      <th></th>\n",
       "      <th>Symbol</th>\n",
       "      <th>Company</th>\n",
       "      <th>GICS Sector</th>\n",
       "      <th>HQ Country</th>\n",
       "      <th>HQ State/City</th>\n",
       "      <th>Market Cap / B</th>\n",
       "      <th>Revenue (TTM) / B</th>\n",
       "      <th>Profit Margin / %</th>\n",
       "      <th>Earnings per Share (TTM) / $</th>\n",
       "      <th>Price to Earning ratio (TTM)</th>\n",
       "    </tr>\n",
       "  </thead>\n",
       "  <tbody>\n",
       "    <tr>\n",
       "      <th>0</th>\n",
       "      <td>AAPL</td>\n",
       "      <td>Apple Inc.</td>\n",
       "      <td>Information Technology</td>\n",
       "      <td>United States</td>\n",
       "      <td>California</td>\n",
       "      <td>3020.0</td>\n",
       "      <td>383.29</td>\n",
       "      <td>25.31</td>\n",
       "      <td>6.14</td>\n",
       "      <td>31.69</td>\n",
       "    </tr>\n",
       "    <tr>\n",
       "      <th>1</th>\n",
       "      <td>MSFT</td>\n",
       "      <td>Microsoft</td>\n",
       "      <td>Information Technology</td>\n",
       "      <td>United States</td>\n",
       "      <td>Washington</td>\n",
       "      <td>2760.0</td>\n",
       "      <td>218.31</td>\n",
       "      <td>35.31</td>\n",
       "      <td>10.31</td>\n",
       "      <td>35.94</td>\n",
       "    </tr>\n",
       "    <tr>\n",
       "      <th>2</th>\n",
       "      <td>GOOG</td>\n",
       "      <td>Alphabet Inc. (Class C)</td>\n",
       "      <td>Communication Services</td>\n",
       "      <td>United States</td>\n",
       "      <td>California</td>\n",
       "      <td>1720.0</td>\n",
       "      <td>297.13</td>\n",
       "      <td>22.46</td>\n",
       "      <td>5.22</td>\n",
       "      <td>26.52</td>\n",
       "    </tr>\n",
       "    <tr>\n",
       "      <th>3</th>\n",
       "      <td>GOOGL</td>\n",
       "      <td>Alphabet Inc. (Class A)</td>\n",
       "      <td>Communication Services</td>\n",
       "      <td>United States</td>\n",
       "      <td>California</td>\n",
       "      <td>1720.0</td>\n",
       "      <td>297.13</td>\n",
       "      <td>22.46</td>\n",
       "      <td>5.22</td>\n",
       "      <td>26.24</td>\n",
       "    </tr>\n",
       "    <tr>\n",
       "      <th>4</th>\n",
       "      <td>AMZN</td>\n",
       "      <td>Amazon</td>\n",
       "      <td>Consumer Discretionary</td>\n",
       "      <td>United States</td>\n",
       "      <td>Washington</td>\n",
       "      <td>1520.0</td>\n",
       "      <td>554.03</td>\n",
       "      <td>3.62</td>\n",
       "      <td>1.91</td>\n",
       "      <td>76.90</td>\n",
       "    </tr>\n",
       "  </tbody>\n",
       "</table>\n",
       "</div>"
      ],
      "text/plain": [
       "  Symbol                  Company             GICS Sector     HQ Country  \\\n",
       "0   AAPL               Apple Inc.  Information Technology  United States   \n",
       "1   MSFT                Microsoft  Information Technology  United States   \n",
       "2   GOOG  Alphabet Inc. (Class C)  Communication Services  United States   \n",
       "3  GOOGL  Alphabet Inc. (Class A)  Communication Services  United States   \n",
       "4   AMZN                   Amazon  Consumer Discretionary  United States   \n",
       "\n",
       "  HQ State/City Market Cap / B Revenue (TTM) / B Profit Margin / %  \\\n",
       "0    California         3020.0            383.29             25.31   \n",
       "1    Washington         2760.0            218.31             35.31   \n",
       "2    California         1720.0            297.13             22.46   \n",
       "3    California         1720.0            297.13             22.46   \n",
       "4    Washington         1520.0            554.03              3.62   \n",
       "\n",
       "   Earnings per Share (TTM) / $ Price to Earning ratio (TTM)  \n",
       "0                          6.14                        31.69  \n",
       "1                         10.31                        35.94  \n",
       "2                          5.22                        26.52  \n",
       "3                          5.22                        26.24  \n",
       "4                          1.91                        76.90  "
      ]
     },
     "execution_count": 51,
     "metadata": {},
     "output_type": "execute_result"
    }
   ],
   "source": [
    "# checking head data\n",
    "SnP500_PEG_dropped.head()"
   ]
  },
  {
   "cell_type": "code",
   "execution_count": 52,
   "id": "6a84c850",
   "metadata": {},
   "outputs": [
    {
     "name": "stdout",
     "output_type": "stream",
     "text": [
      "{nan, '4', '1', '7', '5', '8', '3', '0', '2', '6', 'k', '9'}\n"
     ]
    }
   ],
   "source": [
    "# given that there are no missing PE_ratios, now checking for any units in Price to Earnings column\n",
    "units_pe = set(SnP500_PEG_dropped['Price to Earning ratio (TTM)'].str.slice(-1))\n",
    "print(units_pe)"
   ]
  },
  {
   "cell_type": "code",
   "execution_count": 53,
   "id": "021955a2",
   "metadata": {},
   "outputs": [],
   "source": [
    "# as such there are some values with unit 'k' which need removing and rounding values to 2 decimal places\n",
    "for i in range(len(SnP500_PEG_dropped)):\n",
    "\n",
    "    if type(SnP500_PEG_dropped.iat[i,9])==str:\n",
    "        if SnP500_PEG_dropped.iat[i,9][-1]=='k':\n",
    "            SnP500_PEG_dropped.iat[i,9] = round(float(SnP500_PEG_dropped.iat[i,9][:-1]), decimals=2)"
   ]
  },
  {
   "cell_type": "code",
   "execution_count": 54,
   "id": "0316f8a0",
   "metadata": {},
   "outputs": [],
   "source": [
    "# changing data types to float for numeric columns\n",
    "SnP500_PEG_dropped[['Market Cap / B', 'Revenue (TTM) / B', 'Profit Margin / %', 'Earnings per Share (TTM) / $', 'Price to Earning ratio (TTM)']] = SnP500_PEG_dropped[['Market Cap / B', 'Revenue (TTM) / B', 'Profit Margin / %', 'Earnings per Share (TTM) / $', 'Price to Earning ratio (TTM)']].astype(float)"
   ]
  },
  {
   "cell_type": "code",
   "execution_count": 55,
   "id": "51e38ec8",
   "metadata": {},
   "outputs": [
    {
     "name": "stdout",
     "output_type": "stream",
     "text": [
      "<class 'pandas.core.frame.DataFrame'>\n",
      "RangeIndex: 503 entries, 0 to 502\n",
      "Data columns (total 10 columns):\n",
      " #   Column                        Non-Null Count  Dtype  \n",
      "---  ------                        --------------  -----  \n",
      " 0   Symbol                        503 non-null    object \n",
      " 1   Company                       503 non-null    object \n",
      " 2   GICS Sector                   503 non-null    object \n",
      " 3   HQ Country                    503 non-null    object \n",
      " 4   HQ State/City                 503 non-null    object \n",
      " 5   Market Cap / B                503 non-null    float64\n",
      " 6   Revenue (TTM) / B             503 non-null    float64\n",
      " 7   Profit Margin / %             503 non-null    float64\n",
      " 8   Earnings per Share (TTM) / $  503 non-null    float64\n",
      " 9   Price to Earning ratio (TTM)  503 non-null    float64\n",
      "dtypes: float64(5), object(5)\n",
      "memory usage: 39.4+ KB\n"
     ]
    }
   ],
   "source": [
    "# checking for data type conversion\n",
    "SnP500_PEG_dropped.info()"
   ]
  },
  {
   "cell_type": "code",
   "execution_count": 56,
   "id": "9c7d1257",
   "metadata": {},
   "outputs": [],
   "source": [
    "# # saving as csv to for reference and checking entire dataset\n",
    "# SnP500_PEG_dropped.to_csv(\"tests/test5_No_Null_PE_ratios.csv\", index= False)"
   ]
  },
  {
   "cell_type": "code",
   "execution_count": 57,
   "id": "c8c3fbd3",
   "metadata": {},
   "outputs": [
    {
     "name": "stdout",
     "output_type": "stream",
     "text": [
      "['MU', 'MMM', 'NEM', 'MRNA', 'CCL', 'WBA', 'WRK', 'NCLH', 'VFC', 'XRAY', 'HAS', 'WHR', 'MHK']\n",
      "[]\n"
     ]
    }
   ],
   "source": [
    "# as per the formula, the correctness of PE ratio can be determined by comparing its sign with EPS\n",
    "# so PE ratio must have the same sign as EPS, else the value for PE ratio is incorrect \n",
    "\n",
    "incorrect_values_for_PE = list(SnP500_PEG_dropped['Symbol'][(SnP500_PEG_dropped['Price to Earning ratio (TTM)']>0) & (SnP500_PEG_dropped['Earnings per Share (TTM) / $']<0)])\n",
    "incorrect_values_for_PE_2 = list(SnP500_PEG_dropped['Symbol'][(SnP500_PEG_dropped['Price to Earning ratio (TTM)']<0) & (SnP500_PEG_dropped['Earnings per Share (TTM) / $']>0)])\n",
    "print(incorrect_values_for_PE)\n",
    "print(incorrect_values_for_PE_2)\n",
    "\n",
    "# based on this there are values where PE ratios is positive and EPS value is negative"
   ]
  },
  {
   "cell_type": "code",
   "execution_count": 58,
   "id": "97df85f5",
   "metadata": {},
   "outputs": [],
   "source": [
    "# fixing PE values by calculating it from raw data\n",
    "for company in incorrect_values_for_PE:\n",
    "    PE_ratio = yahoo_finance_PE_ratio(company)\n",
    "    index = SnP500_PEG_dropped.index[SnP500_PEG_dropped['Symbol']==company]\n",
    "    SnP500_PEG_dropped.iat[index[0],9] = round(PE_ratio, decimals=2)"
   ]
  },
  {
   "cell_type": "code",
   "execution_count": 59,
   "id": "0b36d93d",
   "metadata": {
    "scrolled": false
   },
   "outputs": [
    {
     "name": "stdout",
     "output_type": "stream",
     "text": [
      "<class 'pandas.core.frame.DataFrame'>\n",
      "RangeIndex: 503 entries, 0 to 502\n",
      "Data columns (total 10 columns):\n",
      " #   Column                        Non-Null Count  Dtype  \n",
      "---  ------                        --------------  -----  \n",
      " 0   Symbol                        503 non-null    object \n",
      " 1   Company                       503 non-null    object \n",
      " 2   GICS Sector                   503 non-null    object \n",
      " 3   HQ Country                    503 non-null    object \n",
      " 4   HQ State/City                 503 non-null    object \n",
      " 5   Market Cap / B                503 non-null    float64\n",
      " 6   Revenue (TTM) / B             503 non-null    float64\n",
      " 7   Profit Margin / %             503 non-null    float64\n",
      " 8   Earnings per Share (TTM) / $  503 non-null    float64\n",
      " 9   Price to Earning ratio (TTM)  503 non-null    float64\n",
      "dtypes: float64(5), object(5)\n",
      "memory usage: 39.4+ KB\n",
      "Symbol                          0\n",
      "Company                         0\n",
      "GICS Sector                     0\n",
      "HQ Country                      0\n",
      "HQ State/City                   0\n",
      "Market Cap / B                  0\n",
      "Revenue (TTM) / B               0\n",
      "Profit Margin / %               0\n",
      "Earnings per Share (TTM) / $    0\n",
      "Price to Earning ratio (TTM)    0\n",
      "dtype: int64\n",
      "[]\n"
     ]
    }
   ],
   "source": [
    "# checking for all values to be accurate and consistent\n",
    "SnP500_PEG_dropped.info()\n",
    "print(SnP500_PEG_dropped.isna().sum())\n",
    "incorrect_values_for_PE = list(SnP500_PEG_dropped['Symbol'][(SnP500_PEG_dropped['Price to Earning ratio (TTM)']>0) & (SnP500_PEG_dropped['Earnings per Share (TTM) / $']<0)])\n",
    "print(incorrect_values_for_PE)"
   ]
  },
  {
   "cell_type": "code",
   "execution_count": 60,
   "id": "f8cd55fa",
   "metadata": {},
   "outputs": [],
   "source": [
    "# creating a copy with new label to identify as clean dataset\n",
    "SnP500_final_cleaned = SnP500_PEG_dropped.copy()\n",
    "\n",
    "# # saving cleaned dataset as csv\n",
    "# SnP500_final_cleaned.to_csv(\"tests/test6_SnP500_final_cleaned.csv\", index= False)"
   ]
  },
  {
   "cell_type": "markdown",
   "id": "58726854",
   "metadata": {},
   "source": [
    "## Step 3: Exploratory Analysis\n",
    "***\n"
   ]
  },
  {
   "cell_type": "code",
   "execution_count": 434,
   "id": "1c507819",
   "metadata": {},
   "outputs": [],
   "source": [
    "# reading data from csv with clean data\n",
    "SnP500_final_cleaned = pd.read_csv(\"SnP500_final_cleaned.csv\")\n",
    "\n",
    "# setting default parameters for plots\n",
    "plt.style.use(\"seaborn-v0_8\")\n",
    "matplotlib.rcParams['font.size'] = 12\n",
    "matplotlib.rcParams['figure.figsize'] = (10, 5)\n",
    "matplotlib.rcParams['figure.facecolor'] = '#00000000'"
   ]
  },
  {
   "cell_type": "markdown",
   "id": "f4608b3f",
   "metadata": {},
   "source": [
    "### Columns: Symbol & Company"
   ]
  },
  {
   "cell_type": "code",
   "execution_count": 435,
   "id": "0a1be242",
   "metadata": {},
   "outputs": [
    {
     "data": {
      "image/png": "[encoded data removed]",
      "text/plain": [
       "<Figure size 1000x500 with 1 Axes>"
      ]
     },
     "metadata": {
      "needs_background": "light"
     },
     "output_type": "display_data"
    }
   ],
   "source": [
    "# getting distribution of length of each symbol in S&P500 companies\n",
    "symbol_length = SnP500_final_cleaned.Symbol.str.len().value_counts()\n",
    "x = symbol_length.index.array\n",
    "y = symbol_length.array\n",
    "\n",
    "# plotting bar chart with distribution with symbol length\n",
    "fig, ax = plt.subplots()\n",
    "ax.bar(x, y, width=1, edgecolor=\"white\", color = \"steelblue\", linewidth=1)\n",
    "ax.set_xlabel(\"No. of Characters in Symbol\")\n",
    "ax.set_ylabel(\"Frequency\")\n",
    "plt.title(\"Distribution of length of S&P500 Symbols\")\n",
    "plt.show()"
   ]
  },
  {
   "cell_type": "code",
   "execution_count": 436,
   "id": "a6ca84c3",
   "metadata": {
    "scrolled": true
   },
   "outputs": [
    {
     "name": "stdout",
     "output_type": "stream",
     "text": [
      "True     501\n",
      "False      2\n",
      "Name: Symbol, dtype: int64\n",
      "8      BRK.B\n",
      "276     BF.B\n",
      "Name: Symbol, dtype: object\n"
     ]
    }
   ],
   "source": [
    "# code to identify any symbols which may contain special characters or numbers\n",
    "symbol_isalpha = SnP500_final_cleaned.Symbol.str.isalpha()\n",
    "print(symbol_isalpha.value_counts())\n",
    "print(SnP500_final_cleaned['Symbol'][symbol_isalpha==False])"
   ]
  },
  {
   "cell_type": "markdown",
   "id": "88bff7eb",
   "metadata": {},
   "source": [
    "As seen in the above figure, most S&P500 companies have symbol with 3 characters and ocassionaly rising up to 4. The maximum and minimum characters they can have are 5 and 1 respectively; however, very few companies fall into these extremes.\n",
    "\n",
    "Moreover, most of S&P500 companies have a symbol made from alphabetical characters only. The 2 outliers which include a\n",
    "period within the symbol are Berkshire Hathaway and Brown-Forman."
   ]
  },
  {
   "cell_type": "code",
   "execution_count": 437,
   "id": "612a7251",
   "metadata": {},
   "outputs": [
    {
     "name": "stdout",
     "output_type": "stream",
     "text": [
      "All companies are unique\n"
     ]
    }
   ],
   "source": [
    "# checking if company names are unique\n",
    "unique_companies = SnP500_final_cleaned.Company.nunique()\n",
    "if unique_companies == len(SnP500_final_cleaned):\n",
    "    print(\"All companies are unique\")\n",
    "else:\n",
    "    print(\"There are duplicate company records\")"
   ]
  },
  {
   "cell_type": "code",
   "execution_count": 439,
   "id": "168407a2",
   "metadata": {
    "scrolled": false
   },
   "outputs": [
    {
     "data": {
      "image/png": "[encoded data removed]",
      "text/plain": [
       "<Figure size 1000x500 with 1 Axes>"
      ]
     },
     "metadata": {
      "needs_background": "light"
     },
     "output_type": "display_data"
    }
   ],
   "source": [
    "# plotting bar chart with distribution of company name length\n",
    "symbol_length = SnP500_final_cleaned.Company.str.len().value_counts()\n",
    "x = symbol_length.index.array\n",
    "y = symbol_length.array\n",
    "fig, ax = plt.subplots()\n",
    "ax.bar(x, y, width=1, edgecolor=\"white\", color = \"steelblue\", linewidth=0.7)\n",
    "ax.set_xlabel(\"No. of Characters in Company Name\")\n",
    "ax.set_ylabel(\"Frequency\")\n",
    "plt.title(\"Distribution of length of S&P500 Company names\")\n",
    "plt.show()"
   ]
  },
  {
   "cell_type": "code",
   "execution_count": 440,
   "id": "8386b749",
   "metadata": {
    "scrolled": false
   },
   "outputs": [
    {
     "data": {
      "text/plain": [
       "count    503.000000\n",
       "mean      13.514911\n",
       "std        6.343368\n",
       "min        2.000000\n",
       "25%        8.000000\n",
       "50%       13.000000\n",
       "75%       18.000000\n",
       "max       34.000000\n",
       "Name: Company, dtype: float64"
      ]
     },
     "execution_count": 440,
     "metadata": {},
     "output_type": "execute_result"
    }
   ],
   "source": [
    "# statistics for company name length\n",
    "SnP500_final_cleaned.Company.str.len().describe()"
   ]
  },
  {
   "cell_type": "markdown",
   "id": "95a92044",
   "metadata": {},
   "source": [
    "As seen in the above table, all S&P500 company names are unique. From the figure above, the distribution of the company name length looks to be positively skewed, with most frequent name length to be 6 characters and an mean length just above 13. This implies that S&P500 company names tend to be shorter in general."
   ]
  },
  {
   "cell_type": "markdown",
   "id": "7af8d0e1",
   "metadata": {},
   "source": [
    "### Columns: GICS Sector, HQ Country & HQ City/State"
   ]
  },
  {
   "cell_type": "code",
   "execution_count": 349,
   "id": "8de37a6d",
   "metadata": {
    "scrolled": false
   },
   "outputs": [
    {
     "name": "stdout",
     "output_type": "stream",
     "text": [
      "Number of unique GISC: 11\n"
     ]
    },
    {
     "data": {
      "text/html": [
       "<div>\n",
       "<style scoped>\n",
       "    .dataframe tbody tr th:only-of-type {\n",
       "        vertical-align: middle;\n",
       "    }\n",
       "\n",
       "    .dataframe tbody tr th {\n",
       "        vertical-align: top;\n",
       "    }\n",
       "\n",
       "    .dataframe thead th {\n",
       "        text-align: right;\n",
       "    }\n",
       "</style>\n",
       "<table border=\"1\" class=\"dataframe\">\n",
       "  <thead>\n",
       "    <tr style=\"text-align: right;\">\n",
       "      <th></th>\n",
       "      <th>Count</th>\n",
       "      <th>Percentage</th>\n",
       "    </tr>\n",
       "  </thead>\n",
       "  <tbody>\n",
       "    <tr>\n",
       "      <th>Industrials</th>\n",
       "      <td>77</td>\n",
       "      <td>15.31</td>\n",
       "    </tr>\n",
       "    <tr>\n",
       "      <th>Financials</th>\n",
       "      <td>72</td>\n",
       "      <td>14.31</td>\n",
       "    </tr>\n",
       "    <tr>\n",
       "      <th>Information Technology</th>\n",
       "      <td>64</td>\n",
       "      <td>12.72</td>\n",
       "    </tr>\n",
       "    <tr>\n",
       "      <th>Health Care</th>\n",
       "      <td>64</td>\n",
       "      <td>12.72</td>\n",
       "    </tr>\n",
       "    <tr>\n",
       "      <th>Consumer Discretionary</th>\n",
       "      <td>53</td>\n",
       "      <td>10.54</td>\n",
       "    </tr>\n",
       "    <tr>\n",
       "      <th>Consumer Staples</th>\n",
       "      <td>38</td>\n",
       "      <td>7.55</td>\n",
       "    </tr>\n",
       "    <tr>\n",
       "      <th>Real Estate</th>\n",
       "      <td>31</td>\n",
       "      <td>6.16</td>\n",
       "    </tr>\n",
       "    <tr>\n",
       "      <th>Utilities</th>\n",
       "      <td>30</td>\n",
       "      <td>5.96</td>\n",
       "    </tr>\n",
       "    <tr>\n",
       "      <th>Materials</th>\n",
       "      <td>29</td>\n",
       "      <td>5.77</td>\n",
       "    </tr>\n",
       "    <tr>\n",
       "      <th>Energy</th>\n",
       "      <td>23</td>\n",
       "      <td>4.57</td>\n",
       "    </tr>\n",
       "    <tr>\n",
       "      <th>Communication Services</th>\n",
       "      <td>22</td>\n",
       "      <td>4.37</td>\n",
       "    </tr>\n",
       "  </tbody>\n",
       "</table>\n",
       "</div>"
      ],
      "text/plain": [
       "                        Count  Percentage\n",
       "Industrials                77       15.31\n",
       "Financials                 72       14.31\n",
       "Information Technology     64       12.72\n",
       "Health Care                64       12.72\n",
       "Consumer Discretionary     53       10.54\n",
       "Consumer Staples           38        7.55\n",
       "Real Estate                31        6.16\n",
       "Utilities                  30        5.96\n",
       "Materials                  29        5.77\n",
       "Energy                     23        4.57\n",
       "Communication Services     22        4.37"
      ]
     },
     "execution_count": 349,
     "metadata": {},
     "output_type": "execute_result"
    }
   ],
   "source": [
    "# distribution GISC Sector and percentages\n",
    "print(f\"Number of unique GISC: {SnP500_final_cleaned['GICS Sector'].nunique()}\")\n",
    "unique_GICS = pd.Series(SnP500_final_cleaned['GICS Sector'].value_counts(), name=\"Count\")\n",
    "percentage = pd.Series((unique_GICS/unique_GICS.sum())*100, name=\"Percentage\")\n",
    "df = pd.concat([unique_GICS,percentage], axis=1)\n",
    "df.round(2)"
   ]
  },
  {
   "cell_type": "markdown",
   "id": "abadb513",
   "metadata": {},
   "source": [
    "As seen in the above table, the top 5 GICS sectors with the most S&P500 companies include Industrials, Financials, Information Technology, Health Care and Consumer Discretionary. It is expected that Industrials and Information Technology would have the most S&P500 companies as a result of acquiring wealth share from the 2nd and 3rd Industrial revolutions. With advances in Healthcare services in general, it is no surprise to see that it is in the top 5 GICS sectors. Consumer Discretionary involves business most senstive to economic cycles; for products it includes items such household durable goods and textiles/apparel and for services it includes leisure, hotels, restaurants etc. With the rise in entertainment and increasing emphasis on fashion, this is an industry which would be expected to contain some of the top S&P500 companies."
   ]
  },
  {
   "cell_type": "code",
   "execution_count": 350,
   "id": "19f86017",
   "metadata": {},
   "outputs": [
    {
     "name": "stdout",
     "output_type": "stream",
     "text": [
      "Number of unique HQ Countries: 8\n"
     ]
    },
    {
     "data": {
      "text/html": [
       "<div>\n",
       "<style scoped>\n",
       "    .dataframe tbody tr th:only-of-type {\n",
       "        vertical-align: middle;\n",
       "    }\n",
       "\n",
       "    .dataframe tbody tr th {\n",
       "        vertical-align: top;\n",
       "    }\n",
       "\n",
       "    .dataframe thead th {\n",
       "        text-align: right;\n",
       "    }\n",
       "</style>\n",
       "<table border=\"1\" class=\"dataframe\">\n",
       "  <thead>\n",
       "    <tr style=\"text-align: right;\">\n",
       "      <th></th>\n",
       "      <th>Count</th>\n",
       "      <th>Percentage</th>\n",
       "    </tr>\n",
       "  </thead>\n",
       "  <tbody>\n",
       "    <tr>\n",
       "      <th>United States</th>\n",
       "      <td>480</td>\n",
       "      <td>95.43</td>\n",
       "    </tr>\n",
       "    <tr>\n",
       "      <th>Ireland</th>\n",
       "      <td>9</td>\n",
       "      <td>1.79</td>\n",
       "    </tr>\n",
       "    <tr>\n",
       "      <th>United Kingdom</th>\n",
       "      <td>5</td>\n",
       "      <td>0.99</td>\n",
       "    </tr>\n",
       "    <tr>\n",
       "      <th>Switzerland</th>\n",
       "      <td>3</td>\n",
       "      <td>0.60</td>\n",
       "    </tr>\n",
       "    <tr>\n",
       "      <th>Netherlands</th>\n",
       "      <td>2</td>\n",
       "      <td>0.40</td>\n",
       "    </tr>\n",
       "    <tr>\n",
       "      <th>Bermuda</th>\n",
       "      <td>2</td>\n",
       "      <td>0.40</td>\n",
       "    </tr>\n",
       "    <tr>\n",
       "      <th>Canada</th>\n",
       "      <td>1</td>\n",
       "      <td>0.20</td>\n",
       "    </tr>\n",
       "    <tr>\n",
       "      <th>Israel</th>\n",
       "      <td>1</td>\n",
       "      <td>0.20</td>\n",
       "    </tr>\n",
       "  </tbody>\n",
       "</table>\n",
       "</div>"
      ],
      "text/plain": [
       "                Count  Percentage\n",
       "United States     480       95.43\n",
       "Ireland             9        1.79\n",
       "United Kingdom      5        0.99\n",
       "Switzerland         3        0.60\n",
       "Netherlands         2        0.40\n",
       "Bermuda             2        0.40\n",
       "Canada              1        0.20\n",
       "Israel              1        0.20"
      ]
     },
     "execution_count": 350,
     "metadata": {},
     "output_type": "execute_result"
    }
   ],
   "source": [
    "# distribution of HQ Countries and percentages\n",
    "print(f\"Number of unique HQ Countries: {SnP500_final_cleaned['HQ Country'].nunique()}\")\n",
    "unique_HQ_Country = pd.Series(SnP500_final_cleaned['HQ Country'].value_counts(), name=\"Count\")\n",
    "percentage = pd.Series((unique_HQ_Country/unique_HQ_Country.sum())*100, name=\"Percentage\")\n",
    "df = pd.concat([unique_HQ_Country,percentage], axis=1)\n",
    "df.round(2)"
   ]
  },
  {
   "cell_type": "markdown",
   "id": "f2eecb84",
   "metadata": {},
   "source": [
    "As seen in the above table, 95% of all S&P500 companies have HQ located in the United States which as expected. However, Ireland and the United Kingdom have combined majority of almost 3%. Companies located in Ireland could be because Ireland is considered as a 'tax haven' for large corporation in addition, the time zone difference to the States is not too different that work can be carried in sync. Companies located in the UK, could be also due to the time zone, but also because London is considered as one of the main financial hubs of the world, which could make it easy to access money when having large projects. "
   ]
  },
  {
   "cell_type": "code",
   "execution_count": 443,
   "id": "c7753e6c",
   "metadata": {},
   "outputs": [
    {
     "name": "stdout",
     "output_type": "stream",
     "text": [
      "Number of unique HQ States/Cities: 51\n"
     ]
    },
    {
     "data": {
      "text/html": [
       "<div>\n",
       "<style scoped>\n",
       "    .dataframe tbody tr th:only-of-type {\n",
       "        vertical-align: middle;\n",
       "    }\n",
       "\n",
       "    .dataframe tbody tr th {\n",
       "        vertical-align: top;\n",
       "    }\n",
       "\n",
       "    .dataframe thead th {\n",
       "        text-align: right;\n",
       "    }\n",
       "</style>\n",
       "<table border=\"1\" class=\"dataframe\">\n",
       "  <thead>\n",
       "    <tr style=\"text-align: right;\">\n",
       "      <th></th>\n",
       "      <th>HQ State/City</th>\n",
       "      <th>Percentage</th>\n",
       "    </tr>\n",
       "  </thead>\n",
       "  <tbody>\n",
       "    <tr>\n",
       "      <th>California</th>\n",
       "      <td>68</td>\n",
       "      <td>13.52</td>\n",
       "    </tr>\n",
       "    <tr>\n",
       "      <th>New York</th>\n",
       "      <td>52</td>\n",
       "      <td>10.34</td>\n",
       "    </tr>\n",
       "    <tr>\n",
       "      <th>Texas</th>\n",
       "      <td>46</td>\n",
       "      <td>9.15</td>\n",
       "    </tr>\n",
       "    <tr>\n",
       "      <th>Illinois</th>\n",
       "      <td>33</td>\n",
       "      <td>6.56</td>\n",
       "    </tr>\n",
       "    <tr>\n",
       "      <th>Massachusetts</th>\n",
       "      <td>23</td>\n",
       "      <td>4.57</td>\n",
       "    </tr>\n",
       "    <tr>\n",
       "      <th>Ohio</th>\n",
       "      <td>20</td>\n",
       "      <td>3.98</td>\n",
       "    </tr>\n",
       "    <tr>\n",
       "      <th>Pennsylvania</th>\n",
       "      <td>19</td>\n",
       "      <td>3.78</td>\n",
       "    </tr>\n",
       "    <tr>\n",
       "      <th>Georgia</th>\n",
       "      <td>18</td>\n",
       "      <td>3.58</td>\n",
       "    </tr>\n",
       "    <tr>\n",
       "      <th>Florida</th>\n",
       "      <td>16</td>\n",
       "      <td>3.18</td>\n",
       "    </tr>\n",
       "    <tr>\n",
       "      <th>Washington</th>\n",
       "      <td>15</td>\n",
       "      <td>2.98</td>\n",
       "    </tr>\n",
       "  </tbody>\n",
       "</table>\n",
       "</div>"
      ],
      "text/plain": [
       "               HQ State/City  Percentage\n",
       "California                68       13.52\n",
       "New York                  52       10.34\n",
       "Texas                     46        9.15\n",
       "Illinois                  33        6.56\n",
       "Massachusetts             23        4.57\n",
       "Ohio                      20        3.98\n",
       "Pennsylvania              19        3.78\n",
       "Georgia                   18        3.58\n",
       "Florida                   16        3.18\n",
       "Washington                15        2.98"
      ]
     },
     "execution_count": 443,
     "metadata": {},
     "output_type": "execute_result"
    }
   ],
   "source": [
    "# distribution of HQ State/City and percentages\n",
    "print(f\"Number of unique HQ States/Cities: {SnP500_final_cleaned['HQ State/City'].nunique()}\")\n",
    "unique_HQ_StateCity = SnP500_final_cleaned['HQ State/City'].value_counts()\n",
    "percentage = pd.Series((unique_HQ_StateCity/unique_HQ_StateCity.sum())*100, name=\"Percentage\")\n",
    "df = pd.concat([unique_HQ_StateCity,percentage], axis=1)\n",
    "df.round(2).head(10)"
   ]
  },
  {
   "cell_type": "markdown",
   "id": "d04cbde4",
   "metadata": {},
   "source": [
    "As seen in the above table the top 10 HQ locations for S&P500 companies are in the United States, with the top 3 states being California, New York and Texas. The 3 states are expected because Silicon Valley is located in California and hence many tech and financial companies would be located there to access of skilled worker and resources. Many of the S&P500 companies, especially in financial sector, would be located in New York due historical reasons such as: access to skilled workers, access to capital, good transportation, networking opportunities. Texas is also another 'tax haven' for corporations and their founders, hence many big companies would be expected to locate there."
   ]
  },
  {
   "cell_type": "code",
   "execution_count": 455,
   "id": "0105e72b",
   "metadata": {
    "scrolled": false
   },
   "outputs": [
    {
     "data": {
      "text/plain": [
       "(0.0, 100.0)"
      ]
     },
     "execution_count": 455,
     "metadata": {},
     "output_type": "execute_result"
    },
    {
     "data": {
      "image/png": "[encoded data removed]",
      "text/plain": [
       "<Figure size 1000x500 with 1 Axes>"
      ]
     },
     "metadata": {
      "needs_background": "light"
     },
     "output_type": "display_data"
    }
   ],
   "source": [
    "# linking HQ Country with GICS sector\n",
    "table = SnP500_final_cleaned[['GICS Sector','HQ Country']].groupby(by=['GICS Sector']).value_counts()\n",
    "table = pd.pivot_table(SnP500_final_cleaned[['GICS Sector','HQ Country']], values='HQ Country', index=['GICS Sector'],\n",
    "                       columns=['HQ Country'], aggfunc=\"value_counts\")\n",
    "table = table.reindex(sorted(table.columns, reverse=True), axis=1)\n",
    "ax = table.plot.barh(stacked=True, color={\n",
    "    \"United States\": \"steelblue\",\n",
    "    \"United Kingdom\": \"palegreen\",\n",
    "    \"Switzerland\": \"indianred\", \n",
    "    \"Netherlands\": \"purple\",\n",
    "    \"Israel\": \"khaki\", \n",
    "    \"Ireland\":\"lightskyblue\", \n",
    "    \"Canada\": \"orange\",\n",
    "    \"Bermuda\": \"green\"})\n",
    "\n",
    "ax.set_title('GICS Sector Based on HQ Country')\n",
    "ax.set_xlabel(\"Frequency\")\n",
    "ax.set_xlim(0,100)"
   ]
  },
  {
   "cell_type": "markdown",
   "id": "72d34ee3",
   "metadata": {},
   "source": [
    "As seen in the above bar chart, most of these sectors are dominated by companies located in the United States. Utilities, Real Estate, Energy, Consumer Staples and Communication Services are GICS sectors where none of the companies are located outside of the United States. S&P500 companies located in the UK are primarily split across Materials and Financials, with some involvement in Industrials. S&P500 companies in Ireland are split across Information Technology, Industrials, Health Care and Consumer Discretionary."
   ]
  },
  {
   "cell_type": "markdown",
   "id": "e5449d40",
   "metadata": {},
   "source": [
    "### Columns: Market Cap, Revenue, Profit Margin, Earnings per Share & Price to Earning ratio"
   ]
  },
  {
   "cell_type": "code",
   "execution_count": 444,
   "id": "7bbd84fa",
   "metadata": {
    "scrolled": false
   },
   "outputs": [
    {
     "data": {
      "text/html": [
       "<div>\n",
       "<style scoped>\n",
       "    .dataframe tbody tr th:only-of-type {\n",
       "        vertical-align: middle;\n",
       "    }\n",
       "\n",
       "    .dataframe tbody tr th {\n",
       "        vertical-align: top;\n",
       "    }\n",
       "\n",
       "    .dataframe thead th {\n",
       "        text-align: right;\n",
       "    }\n",
       "</style>\n",
       "<table border=\"1\" class=\"dataframe\">\n",
       "  <thead>\n",
       "    <tr style=\"text-align: right;\">\n",
       "      <th></th>\n",
       "      <th>Market Cap / B</th>\n",
       "      <th>Revenue (TTM) / B</th>\n",
       "      <th>Profit Margin / %</th>\n",
       "      <th>Earnings per Share (TTM) / $</th>\n",
       "      <th>Price to Earning ratio (TTM)</th>\n",
       "    </tr>\n",
       "  </thead>\n",
       "  <tbody>\n",
       "    <tr>\n",
       "      <th>count</th>\n",
       "      <td>503.000000</td>\n",
       "      <td>503.000000</td>\n",
       "      <td>503.000000</td>\n",
       "      <td>503.000000</td>\n",
       "      <td>503.000000</td>\n",
       "    </tr>\n",
       "    <tr>\n",
       "      <th>mean</th>\n",
       "      <td>84.608847</td>\n",
       "      <td>32.370596</td>\n",
       "      <td>13.672266</td>\n",
       "      <td>7.875030</td>\n",
       "      <td>26.131849</td>\n",
       "    </tr>\n",
       "    <tr>\n",
       "      <th>std</th>\n",
       "      <td>240.811698</td>\n",
       "      <td>64.245931</td>\n",
       "      <td>15.026608</td>\n",
       "      <td>23.830617</td>\n",
       "      <td>31.205162</td>\n",
       "    </tr>\n",
       "    <tr>\n",
       "      <th>min</th>\n",
       "      <td>4.560000</td>\n",
       "      <td>0.730000</td>\n",
       "      <td>-165.730000</td>\n",
       "      <td>-28.880000</td>\n",
       "      <td>-230.120000</td>\n",
       "    </tr>\n",
       "    <tr>\n",
       "      <th>25%</th>\n",
       "      <td>16.505000</td>\n",
       "      <td>6.050000</td>\n",
       "      <td>6.975000</td>\n",
       "      <td>2.160000</td>\n",
       "      <td>12.890000</td>\n",
       "    </tr>\n",
       "    <tr>\n",
       "      <th>50%</th>\n",
       "      <td>31.230000</td>\n",
       "      <td>12.710000</td>\n",
       "      <td>11.910000</td>\n",
       "      <td>4.900000</td>\n",
       "      <td>22.410000</td>\n",
       "    </tr>\n",
       "    <tr>\n",
       "      <th>75%</th>\n",
       "      <td>65.295000</td>\n",
       "      <td>27.275000</td>\n",
       "      <td>20.595000</td>\n",
       "      <td>8.545000</td>\n",
       "      <td>32.680000</td>\n",
       "    </tr>\n",
       "    <tr>\n",
       "      <th>max</th>\n",
       "      <td>3020.000000</td>\n",
       "      <td>638.790000</td>\n",
       "      <td>87.170000</td>\n",
       "      <td>474.980000</td>\n",
       "      <td>294.790000</td>\n",
       "    </tr>\n",
       "  </tbody>\n",
       "</table>\n",
       "</div>"
      ],
      "text/plain": [
       "       Market Cap / B  Revenue (TTM) / B  Profit Margin / %  \\\n",
       "count      503.000000         503.000000         503.000000   \n",
       "mean        84.608847          32.370596          13.672266   \n",
       "std        240.811698          64.245931          15.026608   \n",
       "min          4.560000           0.730000        -165.730000   \n",
       "25%         16.505000           6.050000           6.975000   \n",
       "50%         31.230000          12.710000          11.910000   \n",
       "75%         65.295000          27.275000          20.595000   \n",
       "max       3020.000000         638.790000          87.170000   \n",
       "\n",
       "       Earnings per Share (TTM) / $  Price to Earning ratio (TTM)  \n",
       "count                    503.000000                    503.000000  \n",
       "mean                       7.875030                     26.131849  \n",
       "std                       23.830617                     31.205162  \n",
       "min                      -28.880000                   -230.120000  \n",
       "25%                        2.160000                     12.890000  \n",
       "50%                        4.900000                     22.410000  \n",
       "75%                        8.545000                     32.680000  \n",
       "max                      474.980000                    294.790000  "
      ]
     },
     "execution_count": 444,
     "metadata": {},
     "output_type": "execute_result"
    }
   ],
   "source": [
    "# statiscal summary of all numerical feature\n",
    "df = SnP500_final_cleaned[['Market Cap / B', 'Revenue (TTM) / B', 'Profit Margin / %', 'Earnings per Share (TTM) / $', 'Price to Earning ratio (TTM)']]\n",
    "stats_summary = df.describe()\n",
    "df.describe()"
   ]
  },
  {
   "cell_type": "markdown",
   "id": "22a6b998",
   "metadata": {},
   "source": [
    "There are some key statistics in the above table which suggest the possiblity of outliers due to errors. These statistics are:\n",
    "- max value in ***Market Cap***\n",
    "- min values in ***Profit Margin***, ***Earnings per Share*** and ***Price to Earning ratio***"
   ]
  },
  {
   "cell_type": "code",
   "execution_count": 467,
   "id": "97fd7929",
   "metadata": {
    "scrolled": false
   },
   "outputs": [
    {
     "data": {
      "image/png": "[encoded data removed]",
      "text/plain": [
       "<Figure size 1000x500 with 5 Axes>"
      ]
     },
     "metadata": {
      "needs_background": "light"
     },
     "output_type": "display_data"
    }
   ],
   "source": [
    "# plotting violin plot to visualise distribution and stripplot to view outliers\n",
    "fig, ax = plt.subplots(nrows=1, ncols=5)\n",
    "fig.tight_layout()\n",
    "for i, column in enumerate(list(df.columns)):\n",
    "    plt.subplot(1,5,(i+1))\n",
    "    if column[-1]==\"B\":\n",
    "        units = \"$/B\"\n",
    "    elif column[-1]==\")\":\n",
    "        units=\"\"\n",
    "    else:\n",
    "        units = column[-1]\n",
    "    sns.violinplot(data = SnP500_final_cleaned[column], color = \"steelblue\")\n",
    "    sns.stripplot(data = SnP500_final_cleaned[column], color = \"indianred\")\n",
    "    ax[i].set_xlabel(column[:-4])\n",
    "    ax[i].set_ylabel(units)\n",
    "\n",
    "ax[0].set_ylim(-200,3200)\n",
    "ax[1].set_ylim(-45,685)\n",
    "plt.suptitle(\"Numeric Features Distribution\")\n",
    "plt.subplots_adjust(top=0.9, wspace=0.7)"
   ]
  },
  {
   "cell_type": "code",
   "execution_count": 420,
   "id": "b4dc4248",
   "metadata": {
    "scrolled": false
   },
   "outputs": [
    {
     "name": "stdout",
     "output_type": "stream",
     "text": [
      "                   Company             GICS Sector  Market Cap / B\n",
      "0               Apple Inc.  Information Technology         3020.00\n",
      "1                Microsoft  Information Technology         2760.00\n",
      "2  Alphabet Inc. (Class C)  Communication Services         1720.00\n",
      "3  Alphabet Inc. (Class A)  Communication Services         1720.00\n",
      "4                   Amazon  Consumer Discretionary         1520.00\n",
      "5                   Nvidia  Information Technology         1150.00\n",
      "6           Meta Platforms  Communication Services          839.32\n",
      "7              Tesla, Inc.  Consumer Discretionary          771.33\n",
      "8       Berkshire Hathaway              Financials          768.94\n",
      "                     Company             GICS Sector  Revenue (TTM) / B\n",
      "0                 Apple Inc.  Information Technology             383.29\n",
      "1                  Microsoft  Information Technology             218.31\n",
      "2    Alphabet Inc. (Class C)  Communication Services             297.13\n",
      "3    Alphabet Inc. (Class A)  Communication Services             297.13\n",
      "4                     Amazon  Consumer Discretionary             554.03\n",
      "8         Berkshire Hathaway              Financials             349.25\n",
      "11        UnitedHealth Group             Health Care             359.98\n",
      "14                   Walmart        Consumer Staples             638.79\n",
      "15                ExxonMobil                  Energy             350.39\n",
      "22                    Costco        Consumer Staples             242.29\n",
      "23       Chevron Corporation                  Energy             202.70\n",
      "87                CVS Health             Health Care             346.60\n",
      "134                 McKesson             Health Care             291.10\n",
      "204                  Cencora             Health Care             262.17\n",
      "280          Cardinal Health             Health Care             210.17\n",
      "                    Company             GICS Sector  Profit Margin / %\n",
      "10                Visa Inc.              Financials              52.90\n",
      "98                   Airbnb  Consumer Discretionary              56.87\n",
      "107               CME Group              Financials              57.13\n",
      "132  Marriott International  Consumer Discretionary              47.47\n",
      "138      Roper Technologies  Information Technology              48.77\n",
      "160        Emerson Electric             Industrials              87.17\n",
      "165          Public Storage             Real Estate              47.39\n",
      "233                     FIS              Financials            -165.73\n",
      "249         Vici Properties             Real Estate              67.52\n",
      "312                Verisign  Information Technology              49.42\n",
      "392                     EQT                  Energy              47.67\n",
      "              Company             GICS Sector  Earnings per Share (TTM) / $\n",
      "70   Booking Holdings  Consumer Discretionary                        141.50\n",
      "175          AutoZone  Consumer Discretionary                        137.43\n",
      "325         NVR, Inc.  Consumer Discretionary                        474.98\n",
      "                    Company             GICS Sector  \\\n",
      "9     Eli Lilly and Company             Health Care   \n",
      "28               Salesforce  Information Technology   \n",
      "39                    Intel  Information Technology   \n",
      "83           American Tower             Real Estate   \n",
      "92       Palo Alto Networks  Information Technology   \n",
      "164               Welltower             Real Estate   \n",
      "177                  Dexcom             Health Care   \n",
      "280         Cardinal Health             Health Care   \n",
      "359                  Clorox        Consumer Staples   \n",
      "361         Axon Enterprise             Industrials   \n",
      "370      Tyler Technologies  Information Technology   \n",
      "396                  Leidos             Industrials   \n",
      "406  Stanley Black & Decker             Industrials   \n",
      "420                 Insulet             Health Care   \n",
      "428     News Corp (Class B)  Communication Services   \n",
      "471            Wynn Resorts  Consumer Discretionary   \n",
      "\n",
      "     Price to Earning ratio (TTM)  \n",
      "9                          106.57  \n",
      "28                          94.62  \n",
      "39                        -106.50  \n",
      "83                         140.48  \n",
      "92                         165.02  \n",
      "164                        165.11  \n",
      "177                        130.65  \n",
      "280                        174.39  \n",
      "359                        208.19  \n",
      "361                        120.07  \n",
      "370                        108.69  \n",
      "396                        102.53  \n",
      "406                       -230.12  \n",
      "420                        113.10  \n",
      "428                         95.54  \n",
      "471                        294.79  \n"
     ]
    }
   ],
   "source": [
    "# using 3 sigma rule to identify outliers and then highlighting the companies, GICS sector and value to confirm if outlier\n",
    "# is due to any error in data\n",
    "outlier = []\n",
    "cumulative_outlier_cat = []\n",
    "for column in list(df.columns):\n",
    "    std = stats_summary[column][2]\n",
    "    upper_limit = 3*std\n",
    "    lower_limit = -3*std\n",
    "    cond1 = SnP500_final_cleaned[column]>upper_limit\n",
    "    cond2 = SnP500_final_cleaned[column]<lower_limit\n",
    "    add_company = SnP500_final_cleaned['Company'][cond1|cond2]\n",
    "    add_GICS = SnP500_final_cleaned['GICS Sector'][cond1|cond2]\n",
    "    print(SnP500_final_cleaned[['Company','GICS Sector', column]][cond1|cond2])\n",
    "    outlier.extend(add_company)\n",
    "    cumulative_outlier_cat.extend(add_GICS)"
   ]
  },
  {
   "cell_type": "markdown",
   "id": "b36bf73e",
   "metadata": {},
   "source": [
    "# TODO"
   ]
  },
  {
   "cell_type": "code",
   "execution_count": 446,
   "id": "bf94f5c5",
   "metadata": {},
   "outputs": [
    {
     "data": {
      "text/plain": [
       "Apple Inc.                 2\n",
       "Alphabet Inc. (Class C)    2\n",
       "Alphabet Inc. (Class A)    2\n",
       "Amazon                     2\n",
       "Microsoft                  2\n",
       "Berkshire Hathaway         2\n",
       "Cardinal Health            2\n",
       "Palo Alto Networks         1\n",
       "Booking Holdings           1\n",
       "AutoZone                   1\n",
       "dtype: int64"
      ]
     },
     "execution_count": 446,
     "metadata": {},
     "output_type": "execute_result"
    }
   ],
   "source": [
    "# checking if there are any recurring outliers\n",
    "outlier = pd.Series(outlier)\n",
    "unique_counts_outlier = outlier.value_counts()\n",
    "unique_counts_outlier.head(10)"
   ]
  },
  {
   "cell_type": "markdown",
   "id": "6d9dc040",
   "metadata": {},
   "source": [
    "As seen in the above table, the top 5 companies which are identified as being outliers in 2 of the 5 numerical features, are in fact the top 5 S&P500 companies. This suggests that their values of Market Capitalisation and Revenue are well above of what is expected from a typical S&P500 company."
   ]
  },
  {
   "cell_type": "code",
   "execution_count": 448,
   "id": "45b451a5",
   "metadata": {
    "scrolled": true
   },
   "outputs": [
    {
     "name": "stdout",
     "output_type": "stream",
     "text": [
      "Information Technology    11\n",
      "Consumer Discretionary     9\n",
      "Health Care                9\n",
      "Communication Services     6\n",
      "Financials                 5\n",
      "Industrials                4\n",
      "Real Estate                4\n",
      "Consumer Staples           3\n",
      "Energy                     3\n",
      "dtype: int64\n"
     ]
    }
   ],
   "source": [
    "# identifying from which GICS sector do these outliers come from\n",
    "cumulative_outlier_cat = pd.Series(cumulative_outlier_cat)\n",
    "unique_counts_outlier_cat = cumulative_outlier_cat.value_counts()\n",
    "print(unique_counts_outlier_cat)"
   ]
  },
  {
   "cell_type": "markdown",
   "id": "a819684b",
   "metadata": {},
   "source": [
    "# TODO As seen in the above table, 4 of top 5 GICS sector which contain "
   ]
  },
  {
   "cell_type": "code",
   "execution_count": 219,
   "id": "9dc10960",
   "metadata": {},
   "outputs": [
    {
     "data": {
      "image/png": "[encoded data removed]",
      "text/plain": [
       "<Figure size 1000x500 with 2 Axes>"
      ]
     },
     "metadata": {
      "needs_background": "light"
     },
     "output_type": "display_data"
    }
   ],
   "source": [
    "# identifying correlation between the numerical features\n",
    "df.corr()\n",
    "plt.figure(figsize=(10, 5))\n",
    "sns.color_palette(\"Blues\", as_cmap=True)\n",
    "heatmap = sns.heatmap(df.corr(), vmin=-1, vmax=1, annot=True, cmap = \"Blues\")\n",
    "heatmap.set_title('Correlation Heatmap', fontdict={'fontsize':12}, pad=12);"
   ]
  },
  {
   "cell_type": "code",
   "execution_count": null,
   "id": "0192a4ad",
   "metadata": {},
   "outputs": [],
   "source": []
  },
  {
   "cell_type": "markdown",
   "id": "ecc6eed3",
   "metadata": {},
   "source": [
    "## Step 4: Investigating Data-Set with questions\n",
    "***"
   ]
  },
  {
   "cell_type": "code",
   "execution_count": null,
   "id": "963fbe82",
   "metadata": {},
   "outputs": [],
   "source": []
  },
  {
   "cell_type": "markdown",
   "id": "fe9dcdfc",
   "metadata": {},
   "source": [
    "## Step 5: Conclusion\n",
    "***\n",
    "[TODO placeholder]"
   ]
  },
  {
   "cell_type": "code",
   "execution_count": null,
   "id": "0eeedc17",
   "metadata": {},
   "outputs": [],
   "source": []
  }
 ],
 "metadata": {
  "kernelspec": {
   "display_name": "Python 3 (ipykernel)",
   "language": "python",
   "name": "python3"
  },
  "language_info": {
   "codemirror_mode": {
    "name": "ipython",
    "version": 3
   },
   "file_extension": ".py",
   "mimetype": "text/x-python",
   "name": "python",
   "nbconvert_exporter": "python",
   "pygments_lexer": "ipython3",
   "version": "3.10.9"
  }
 },
 "nbformat": 4,
 "nbformat_minor": 5
}
