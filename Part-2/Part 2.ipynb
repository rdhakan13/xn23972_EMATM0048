{
 "cells": [
  {
   "cell_type": "markdown",
   "id": "5e9ab2a9",
   "metadata": {},
   "source": [
    "# Part 2: Data Analytics\n",
    "***\n",
    "## Importing Libraries"
   ]
  },
  {
   "cell_type": "code",
   "execution_count": null,
   "id": "3fdf62b7",
   "metadata": {},
   "outputs": [],
   "source": [
    "import json\n",
    "import wikipedia\n",
    "import pandas as pd\n",
    "import requests\n",
    "import numpy as np"
   ]
  },
  {
   "cell_type": "markdown",
   "id": "8937a04f",
   "metadata": {},
   "source": [
    "## Step 1: Crawling Real-World Datasets\n",
    "***\n",
    "The dataset that is extracted is about S&P500 stocks. S&P500 is a common equity indicies which include 500 of the largest companies listed on stock exchanges in the United States. \n",
    "\n",
    "First, the table of S&P500 companies is scarped from Wikipedia's __[S&P500 Companies](https://en.wikipedia.org/wiki/List_of_S%26P_500_companies)__ homepage. The columns of interest from this table are: Symbol of the stock (e.g. AAPL for Apple Inc.), Security (i.e. the company name), Global Industry Classification Standard (GICS) sector, and Headquarters Location. \n",
    "\n",
    "Second, common key metrics used in analysing stocks are scraped from __[Yahoo Finance](https://finance.yahoo.com/)__. The key metrics of interest are: Market Capitilisation, Revenue, Profit Margin, Earning per Share, Profit to Earnings ratio and Profit to Earning Growth ratio. These metrics are scraped by taking the symbols from the table acquired from Wikipedia and using them to create a url to the respective stock's statistics page (e.g. __https://finance.yahoo.com/quote/AAPL/key-statistics?p=AAPL__ for Apple Inc.)\n",
    "\n",
    "The two tables are then merged and saved as `SnP500_raw.csv` in the directory of this jupyter notebook\n",
    "\n",
    "<div class=\"alert alert-block alert-info\">\n",
    "<b>Note:</b> The data extracted from Yahoo Finance is accurate to date 02/12/2023.\n",
    "</div>\n"
   ]
  },
  {
   "cell_type": "code",
   "execution_count": null,
   "id": "c024af14",
   "metadata": {},
   "outputs": [],
   "source": [
    "# extracting list of SnP 500 companies from Wikipedia\n",
    "url_link= 'https://en.wikipedia.org/wiki/List_of_S%26P_500_companies'\n",
    "response = requests.get(url_link)\n",
    "SnP500_raw = pd.read_html(response.text)[0]\n",
    "SnP500_raw.head()"
   ]
  },
  {
   "cell_type": "code",
   "execution_count": null,
   "id": "40517b73",
   "metadata": {
    "scrolled": false
   },
   "outputs": [],
   "source": [
    "def yahoo_api_statistics(symbol:str):\n",
    "     '''\n",
    "    Returns a list of metrics commonly used to evaluate stocks.\n",
    "\n",
    "            Parameters:\n",
    "                    symbol (str): Stock symbols; e.g. AAPL for Apple\n",
    "\n",
    "            Returns:\n",
    "                    metrics_list (lst): List of key metrics in the given order:\n",
    "                    1. Market Capitilisation (Market_cap)\n",
    "                    2. Revenue (Revenue)\n",
    "                    3. Profit Margin (Profit_margin)\n",
    "                    4. Earning per Share (EPS)\n",
    "                    5. Profit to Earnings ratio (PE_ratio)\n",
    "                    6. Profit to Earnings Growth ratio (PEG)\n",
    "    '''\n",
    "        \n",
    "    # replaces a '.' to '-' in any symbol to produce the correct url to scrape data\n",
    "    if \".\" in symbol:\n",
    "        symbol = symbol.replace(\".\",\"-\")\n",
    "        \n",
    "    statistics_url = (\"https://finance.yahoo.com/quote/{symbol}/key-statistics?p={symbol}\").format(symbol = symbol)\n",
    "    response = requests.get(statistics_url, headers= {'User-agent': 'Mozilla/5.0'})\n",
    "    df = pd.read_html(response.text)\n",
    "    \n",
    "    # Extracts individual metrics from the tables\n",
    "    Market_cap = df[0].iloc[0,1]\n",
    "    Revenue = df[-3].iloc[0,1]\n",
    "    Profit_margin = df[5].iloc[0,1]\n",
    "    EPS = df[-3].iloc[6,1]\n",
    "    PE_ratio =  df[0].iloc[2,1]\n",
    "    PEG = df[0].iloc[4,1]\n",
    "    \n",
    "    metrics_list = [Market_cap, Revenue, Profit_margin, EPS, PE_ratio, PEG]\n",
    "    \n",
    "    return metrics_list\n",
    "\n",
    "\n",
    "# creating an empty list to store the metrics\n",
    "metrics = []\n",
    "\n",
    "# loops through symbols to extract \n",
    "for i in range(len(SnP500_sliced)):\n",
    "    \n",
    "    # try/except to catch out any pages with errors\n",
    "    try:\n",
    "        symbol = SnP500_sliced.iloc[i,0]\n",
    "        input_list = yahoo_api_statistics(symbol)\n",
    "        metrics.append(input_list)\n",
    "    except:\n",
    "        print(symbol)\n"
   ]
  },
  {
   "cell_type": "code",
   "execution_count": null,
   "id": "9e85c304",
   "metadata": {},
   "outputs": [],
   "source": [
    "# columns with units, where B = Billions and TTM = Trailing Twelve Months\n",
    "columns_to_add = ['Market Cap / B', 'Revenue (TTM) / B', 'Profit Margin / %', 'Earnings per Share (TTM) / $', 'Price to Earning ratio (TTM)', 'Price to Earnings Growth ratio (5yr expected)']\n",
    "\n",
    "# converting lists of lists into a dataframe\n",
    "metrics = pd.DataFrame(data = metrics, columns = columns_to_add)\n",
    "\n",
    "# slicing the raw dataframe to acquire the required columns only \n",
    "SnP500_sliced = SnP500_raw[0][['Symbol','Security','GICS Sector', 'Headquarters Location']]\n",
    "\n",
    "# merging the two dataframes\n",
    "SnP500_metrics_raw = pd.concat([SnP500_sliced,metrics], axis = 1)\n",
    "\n",
    "# saving the merged dataframe as csv file in the directory of this Jupyter Notebook\n",
    "SnP500_metrics_raw.to_csv(\"SnP500_raw_data.csv\", index= False)"
   ]
  },
  {
   "cell_type": "markdown",
   "id": "942a7881",
   "metadata": {},
   "source": [
    "## Step 2: Data Preparation & Cleaning\n",
    "***\n",
    "The following is performed to prepare the data:\n",
    "- Units of the key metrics are standardised for all stocks and removed from each cell (e.g. for Market Capitalisation any value in T (Trillions) is converted to B, and 302.1B is changed to 302.1 since units are stated on the column headings)\n",
    "- Null values are indentified using an open source data observability tool great_expectations and either rows are removed or values are filled via manual calculations\n",
    "- List of companies are sorted in the order of largest Market Capitalisation to the smallest and a ranking index is produced\n",
    "- Ensuring metrics are to 4 significant figures\n",
    "- Column headings are simplified where possible (e.g. Security is changed to Company)\n",
    "- Headquarters location of Security (or Companies) are standardised (e.g. for US based companies only the States are mentioned, this can be standardised by replacing it with country only)"
   ]
  },
  {
   "cell_type": "code",
   "execution_count": null,
   "id": "bd83ba5a",
   "metadata": {},
   "outputs": [],
   "source": []
  },
  {
   "cell_type": "markdown",
   "id": "58726854",
   "metadata": {},
   "source": [
    "## Step 3: Exploratory Analysis\n",
    "***"
   ]
  },
  {
   "cell_type": "code",
   "execution_count": null,
   "id": "a60357b2",
   "metadata": {},
   "outputs": [],
   "source": []
  },
  {
   "cell_type": "markdown",
   "id": "ecc6eed3",
   "metadata": {},
   "source": [
    "## Step 4: Investigating Data-Set with questions\n",
    "***"
   ]
  },
  {
   "cell_type": "code",
   "execution_count": null,
   "id": "5aca7446",
   "metadata": {},
   "outputs": [],
   "source": []
  },
  {
   "cell_type": "markdown",
   "id": "fe9dcdfc",
   "metadata": {},
   "source": [
    "## Step 5: Conclusion\n",
    "***"
   ]
  },
  {
   "cell_type": "code",
   "execution_count": null,
   "id": "b9e8879a",
   "metadata": {},
   "outputs": [],
   "source": []
  }
 ],
 "metadata": {
  "kernelspec": {
   "display_name": "Python 3 (ipykernel)",
   "language": "python",
   "name": "python3"
  },
  "language_info": {
   "codemirror_mode": {
    "name": "ipython",
    "version": 3
   },
   "file_extension": ".py",
   "mimetype": "text/x-python",
   "name": "python",
   "nbconvert_exporter": "python",
   "pygments_lexer": "ipython3",
   "version": "3.10.9"
  }
 },
 "nbformat": 4,
 "nbformat_minor": 5
}
